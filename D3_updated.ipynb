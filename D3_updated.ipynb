{
  "nbformat": 4,
  "nbformat_minor": 0,
  "metadata": {
    "colab": {
      "provenance": [],
      "gpuType": "T4"
    },
    "kernelspec": {
      "name": "python3",
      "display_name": "Python 3"
    },
    "language_info": {
      "name": "python"
    },
    "accelerator": "GPU"
  },
  "cells": [
    {
      "cell_type": "code",
      "execution_count": 4,
      "metadata": {
        "colab": {
          "base_uri": "https://localhost:8080/"
        },
        "id": "G41BnP5b6aij",
        "outputId": "03b32bdb-0634-4307-d1d6-c02d629d1a26"
      },
      "outputs": [
        {
          "output_type": "stream",
          "name": "stdout",
          "text": [
            "Cloning into 'epsilon-transformers'...\n",
            "remote: Enumerating objects: 5666, done.\u001b[K\n",
            "remote: Counting objects: 100% (1049/1049), done.\u001b[K\n",
            "remote: Compressing objects: 100% (506/506), done.\u001b[K\n",
            "remote: Total 5666 (delta 554), reused 889 (delta 527), pack-reused 4617\u001b[K\n",
            "Receiving objects: 100% (5666/5666), 242.68 MiB | 13.71 MiB/s, done.\n",
            "Resolving deltas: 100% (3191/3191), done.\n",
            "/content/epsilon-transformers\n",
            "Obtaining file:///content/epsilon-transformers\n",
            "  Installing build dependencies ... \u001b[?25l\u001b[?25hdone\n",
            "  Checking if build backend supports build_editable ... \u001b[?25l\u001b[?25hdone\n",
            "  Getting requirements to build editable ... \u001b[?25l\u001b[?25hdone\n",
            "  Preparing editable metadata (pyproject.toml) ... \u001b[?25l\u001b[?25hdone\n",
            "Requirement already satisfied: torch in /usr/local/lib/python3.10/dist-packages (from epsilon_transformers==0.1) (2.3.0+cu121)\n",
            "Requirement already satisfied: numpy in /usr/local/lib/python3.10/dist-packages (from epsilon_transformers==0.1) (1.25.2)\n",
            "Requirement already satisfied: pandas in /usr/local/lib/python3.10/dist-packages (from epsilon_transformers==0.1) (2.0.3)\n",
            "Requirement already satisfied: seaborn in /usr/local/lib/python3.10/dist-packages (from epsilon_transformers==0.1) (0.13.1)\n",
            "Requirement already satisfied: matplotlib in /usr/local/lib/python3.10/dist-packages (from epsilon_transformers==0.1) (3.7.1)\n",
            "Collecting wandb (from epsilon_transformers==0.1)\n",
            "  Downloading wandb-0.17.0-py3-none-manylinux_2_5_x86_64.manylinux1_x86_64.manylinux_2_17_x86_64.manylinux2014_x86_64.whl (6.7 MB)\n",
            "\u001b[2K     \u001b[90m━━━━━━━━━━━━━━━━━━━━━━━━━━━━━━━━━━━━━━━━\u001b[0m \u001b[32m6.7/6.7 MB\u001b[0m \u001b[31m38.3 MB/s\u001b[0m eta \u001b[36m0:00:00\u001b[0m\n",
            "\u001b[?25hRequirement already satisfied: scikit-learn in /usr/local/lib/python3.10/dist-packages (from epsilon_transformers==0.1) (1.2.2)\n",
            "Requirement already satisfied: plotly in /usr/local/lib/python3.10/dist-packages (from epsilon_transformers==0.1) (5.15.0)\n",
            "Collecting transformer-lens (from epsilon_transformers==0.1)\n",
            "  Downloading transformer_lens-2.0.0-py3-none-any.whl (144 kB)\n",
            "\u001b[2K     \u001b[90m━━━━━━━━━━━━━━━━━━━━━━━━━━━━━━━━━━━━━━━━\u001b[0m \u001b[32m145.0/145.0 kB\u001b[0m \u001b[31m23.0 MB/s\u001b[0m eta \u001b[36m0:00:00\u001b[0m\n",
            "\u001b[?25hRequirement already satisfied: pytest in /usr/local/lib/python3.10/dist-packages (from epsilon_transformers==0.1) (7.4.4)\n",
            "Requirement already satisfied: PyDrive in /usr/local/lib/python3.10/dist-packages (from epsilon_transformers==0.1) (1.3.1)\n",
            "Collecting black (from epsilon_transformers==0.1)\n",
            "  Downloading black-24.4.2-cp310-cp310-manylinux_2_17_x86_64.manylinux2014_x86_64.whl (1.8 MB)\n",
            "\u001b[2K     \u001b[90m━━━━━━━━━━━━━━━━━━━━━━━━━━━━━━━━━━━━━━━━\u001b[0m \u001b[32m1.8/1.8 MB\u001b[0m \u001b[31m18.1 MB/s\u001b[0m eta \u001b[36m0:00:00\u001b[0m\n",
            "\u001b[?25hCollecting mypy (from epsilon_transformers==0.1)\n",
            "  Downloading mypy-1.10.0-cp310-cp310-manylinux_2_17_x86_64.manylinux2014_x86_64.whl (12.7 MB)\n",
            "\u001b[2K     \u001b[90m━━━━━━━━━━━━━━━━━━━━━━━━━━━━━━━━━━━━━━━━\u001b[0m \u001b[32m12.7/12.7 MB\u001b[0m \u001b[31m81.9 MB/s\u001b[0m eta \u001b[36m0:00:00\u001b[0m\n",
            "\u001b[?25hCollecting jaxtyping (from epsilon_transformers==0.1)\n",
            "  Downloading jaxtyping-0.2.29-py3-none-any.whl (41 kB)\n",
            "\u001b[2K     \u001b[90m━━━━━━━━━━━━━━━━━━━━━━━━━━━━━━━━━━━━━━━━\u001b[0m \u001b[32m41.2/41.2 kB\u001b[0m \u001b[31m7.2 MB/s\u001b[0m eta \u001b[36m0:00:00\u001b[0m\n",
            "\u001b[?25hCollecting fire (from epsilon_transformers==0.1)\n",
            "  Downloading fire-0.6.0.tar.gz (88 kB)\n",
            "\u001b[2K     \u001b[90m━━━━━━━━━━━━━━━━━━━━━━━━━━━━━━━━━━━━━━━━\u001b[0m \u001b[32m88.4/88.4 kB\u001b[0m \u001b[31m16.1 MB/s\u001b[0m eta \u001b[36m0:00:00\u001b[0m\n",
            "\u001b[?25h  Preparing metadata (setup.py) ... \u001b[?25l\u001b[?25hdone\n",
            "Requirement already satisfied: pydantic in /usr/local/lib/python3.10/dist-packages (from epsilon_transformers==0.1) (2.7.1)\n",
            "Collecting python-dotenv (from epsilon_transformers==0.1)\n",
            "  Downloading python_dotenv-1.0.1-py3-none-any.whl (19 kB)\n",
            "Requirement already satisfied: tqdm in /usr/local/lib/python3.10/dist-packages (from epsilon_transformers==0.1) (4.66.4)\n",
            "Collecting boto3 (from epsilon_transformers==0.1)\n",
            "  Downloading boto3-1.34.117-py3-none-any.whl (139 kB)\n",
            "\u001b[2K     \u001b[90m━━━━━━━━━━━━━━━━━━━━━━━━━━━━━━━━━━━━━━━━\u001b[0m \u001b[32m139.3/139.3 kB\u001b[0m \u001b[31m19.5 MB/s\u001b[0m eta \u001b[36m0:00:00\u001b[0m\n",
            "\u001b[?25hRequirement already satisfied: click>=8.0.0 in /usr/local/lib/python3.10/dist-packages (from black->epsilon_transformers==0.1) (8.1.7)\n",
            "Collecting mypy-extensions>=0.4.3 (from black->epsilon_transformers==0.1)\n",
            "  Downloading mypy_extensions-1.0.0-py3-none-any.whl (4.7 kB)\n",
            "Requirement already satisfied: packaging>=22.0 in /usr/local/lib/python3.10/dist-packages (from black->epsilon_transformers==0.1) (24.0)\n",
            "Collecting pathspec>=0.9.0 (from black->epsilon_transformers==0.1)\n",
            "  Downloading pathspec-0.12.1-py3-none-any.whl (31 kB)\n",
            "Requirement already satisfied: platformdirs>=2 in /usr/local/lib/python3.10/dist-packages (from black->epsilon_transformers==0.1) (4.2.2)\n",
            "Requirement already satisfied: tomli>=1.1.0 in /usr/local/lib/python3.10/dist-packages (from black->epsilon_transformers==0.1) (2.0.1)\n",
            "Requirement already satisfied: typing-extensions>=4.0.1 in /usr/local/lib/python3.10/dist-packages (from black->epsilon_transformers==0.1) (4.11.0)\n",
            "Collecting botocore<1.35.0,>=1.34.117 (from boto3->epsilon_transformers==0.1)\n",
            "  Downloading botocore-1.34.117-py3-none-any.whl (12.3 MB)\n",
            "\u001b[2K     \u001b[90m━━━━━━━━━━━━━━━━━━━━━━━━━━━━━━━━━━━━━━━━\u001b[0m \u001b[32m12.3/12.3 MB\u001b[0m \u001b[31m89.8 MB/s\u001b[0m eta \u001b[36m0:00:00\u001b[0m\n",
            "\u001b[?25hCollecting jmespath<2.0.0,>=0.7.1 (from boto3->epsilon_transformers==0.1)\n",
            "  Downloading jmespath-1.0.1-py3-none-any.whl (20 kB)\n",
            "Collecting s3transfer<0.11.0,>=0.10.0 (from boto3->epsilon_transformers==0.1)\n",
            "  Downloading s3transfer-0.10.1-py3-none-any.whl (82 kB)\n",
            "\u001b[2K     \u001b[90m━━━━━━━━━━━━━━━━━━━━━━━━━━━━━━━━━━━━━━━━\u001b[0m \u001b[32m82.2/82.2 kB\u001b[0m \u001b[31m15.3 MB/s\u001b[0m eta \u001b[36m0:00:00\u001b[0m\n",
            "\u001b[?25hRequirement already satisfied: six in /usr/local/lib/python3.10/dist-packages (from fire->epsilon_transformers==0.1) (1.16.0)\n",
            "Requirement already satisfied: termcolor in /usr/local/lib/python3.10/dist-packages (from fire->epsilon_transformers==0.1) (2.4.0)\n",
            "Collecting typeguard==2.13.3 (from jaxtyping->epsilon_transformers==0.1)\n",
            "  Downloading typeguard-2.13.3-py3-none-any.whl (17 kB)\n",
            "Requirement already satisfied: contourpy>=1.0.1 in /usr/local/lib/python3.10/dist-packages (from matplotlib->epsilon_transformers==0.1) (1.2.1)\n",
            "Requirement already satisfied: cycler>=0.10 in /usr/local/lib/python3.10/dist-packages (from matplotlib->epsilon_transformers==0.1) (0.12.1)\n",
            "Requirement already satisfied: fonttools>=4.22.0 in /usr/local/lib/python3.10/dist-packages (from matplotlib->epsilon_transformers==0.1) (4.51.0)\n",
            "Requirement already satisfied: kiwisolver>=1.0.1 in /usr/local/lib/python3.10/dist-packages (from matplotlib->epsilon_transformers==0.1) (1.4.5)\n",
            "Requirement already satisfied: pillow>=6.2.0 in /usr/local/lib/python3.10/dist-packages (from matplotlib->epsilon_transformers==0.1) (9.4.0)\n",
            "Requirement already satisfied: pyparsing>=2.3.1 in /usr/local/lib/python3.10/dist-packages (from matplotlib->epsilon_transformers==0.1) (3.1.2)\n",
            "Requirement already satisfied: python-dateutil>=2.7 in /usr/local/lib/python3.10/dist-packages (from matplotlib->epsilon_transformers==0.1) (2.8.2)\n",
            "Requirement already satisfied: pytz>=2020.1 in /usr/local/lib/python3.10/dist-packages (from pandas->epsilon_transformers==0.1) (2023.4)\n",
            "Requirement already satisfied: tzdata>=2022.1 in /usr/local/lib/python3.10/dist-packages (from pandas->epsilon_transformers==0.1) (2024.1)\n",
            "Requirement already satisfied: tenacity>=6.2.0 in /usr/local/lib/python3.10/dist-packages (from plotly->epsilon_transformers==0.1) (8.3.0)\n",
            "Requirement already satisfied: annotated-types>=0.4.0 in /usr/local/lib/python3.10/dist-packages (from pydantic->epsilon_transformers==0.1) (0.7.0)\n",
            "Requirement already satisfied: pydantic-core==2.18.2 in /usr/local/lib/python3.10/dist-packages (from pydantic->epsilon_transformers==0.1) (2.18.2)\n",
            "Requirement already satisfied: google-api-python-client>=1.2 in /usr/local/lib/python3.10/dist-packages (from PyDrive->epsilon_transformers==0.1) (2.84.0)\n",
            "Requirement already satisfied: oauth2client>=4.0.0 in /usr/local/lib/python3.10/dist-packages (from PyDrive->epsilon_transformers==0.1) (4.1.3)\n",
            "Requirement already satisfied: PyYAML>=3.0 in /usr/local/lib/python3.10/dist-packages (from PyDrive->epsilon_transformers==0.1) (6.0.1)\n",
            "Requirement already satisfied: iniconfig in /usr/local/lib/python3.10/dist-packages (from pytest->epsilon_transformers==0.1) (2.0.0)\n",
            "Requirement already satisfied: pluggy<2.0,>=0.12 in /usr/local/lib/python3.10/dist-packages (from pytest->epsilon_transformers==0.1) (1.5.0)\n",
            "Requirement already satisfied: exceptiongroup>=1.0.0rc8 in /usr/local/lib/python3.10/dist-packages (from pytest->epsilon_transformers==0.1) (1.2.1)\n",
            "Requirement already satisfied: scipy>=1.3.2 in /usr/local/lib/python3.10/dist-packages (from scikit-learn->epsilon_transformers==0.1) (1.11.4)\n",
            "Requirement already satisfied: joblib>=1.1.1 in /usr/local/lib/python3.10/dist-packages (from scikit-learn->epsilon_transformers==0.1) (1.4.2)\n",
            "Requirement already satisfied: threadpoolctl>=2.0.0 in /usr/local/lib/python3.10/dist-packages (from scikit-learn->epsilon_transformers==0.1) (3.5.0)\n",
            "Requirement already satisfied: filelock in /usr/local/lib/python3.10/dist-packages (from torch->epsilon_transformers==0.1) (3.14.0)\n",
            "Requirement already satisfied: sympy in /usr/local/lib/python3.10/dist-packages (from torch->epsilon_transformers==0.1) (1.12)\n",
            "Requirement already satisfied: networkx in /usr/local/lib/python3.10/dist-packages (from torch->epsilon_transformers==0.1) (3.3)\n",
            "Requirement already satisfied: jinja2 in /usr/local/lib/python3.10/dist-packages (from torch->epsilon_transformers==0.1) (3.1.4)\n",
            "Requirement already satisfied: fsspec in /usr/local/lib/python3.10/dist-packages (from torch->epsilon_transformers==0.1) (2023.6.0)\n",
            "Collecting nvidia-cuda-nvrtc-cu12==12.1.105 (from torch->epsilon_transformers==0.1)\n",
            "  Using cached nvidia_cuda_nvrtc_cu12-12.1.105-py3-none-manylinux1_x86_64.whl (23.7 MB)\n",
            "Collecting nvidia-cuda-runtime-cu12==12.1.105 (from torch->epsilon_transformers==0.1)\n",
            "  Using cached nvidia_cuda_runtime_cu12-12.1.105-py3-none-manylinux1_x86_64.whl (823 kB)\n",
            "Collecting nvidia-cuda-cupti-cu12==12.1.105 (from torch->epsilon_transformers==0.1)\n",
            "  Using cached nvidia_cuda_cupti_cu12-12.1.105-py3-none-manylinux1_x86_64.whl (14.1 MB)\n",
            "Collecting nvidia-cudnn-cu12==8.9.2.26 (from torch->epsilon_transformers==0.1)\n",
            "  Using cached nvidia_cudnn_cu12-8.9.2.26-py3-none-manylinux1_x86_64.whl (731.7 MB)\n",
            "Collecting nvidia-cublas-cu12==12.1.3.1 (from torch->epsilon_transformers==0.1)\n",
            "  Using cached nvidia_cublas_cu12-12.1.3.1-py3-none-manylinux1_x86_64.whl (410.6 MB)\n",
            "Collecting nvidia-cufft-cu12==11.0.2.54 (from torch->epsilon_transformers==0.1)\n",
            "  Using cached nvidia_cufft_cu12-11.0.2.54-py3-none-manylinux1_x86_64.whl (121.6 MB)\n",
            "Collecting nvidia-curand-cu12==10.3.2.106 (from torch->epsilon_transformers==0.1)\n",
            "  Using cached nvidia_curand_cu12-10.3.2.106-py3-none-manylinux1_x86_64.whl (56.5 MB)\n",
            "Collecting nvidia-cusolver-cu12==11.4.5.107 (from torch->epsilon_transformers==0.1)\n",
            "  Using cached nvidia_cusolver_cu12-11.4.5.107-py3-none-manylinux1_x86_64.whl (124.2 MB)\n",
            "Collecting nvidia-cusparse-cu12==12.1.0.106 (from torch->epsilon_transformers==0.1)\n",
            "  Using cached nvidia_cusparse_cu12-12.1.0.106-py3-none-manylinux1_x86_64.whl (196.0 MB)\n",
            "Collecting nvidia-nccl-cu12==2.20.5 (from torch->epsilon_transformers==0.1)\n",
            "  Using cached nvidia_nccl_cu12-2.20.5-py3-none-manylinux2014_x86_64.whl (176.2 MB)\n",
            "Collecting nvidia-nvtx-cu12==12.1.105 (from torch->epsilon_transformers==0.1)\n",
            "  Using cached nvidia_nvtx_cu12-12.1.105-py3-none-manylinux1_x86_64.whl (99 kB)\n",
            "Requirement already satisfied: triton==2.3.0 in /usr/local/lib/python3.10/dist-packages (from torch->epsilon_transformers==0.1) (2.3.0)\n",
            "Collecting nvidia-nvjitlink-cu12 (from nvidia-cusolver-cu12==11.4.5.107->torch->epsilon_transformers==0.1)\n",
            "  Downloading nvidia_nvjitlink_cu12-12.5.40-py3-none-manylinux2014_x86_64.whl (21.3 MB)\n",
            "\u001b[2K     \u001b[90m━━━━━━━━━━━━━━━━━━━━━━━━━━━━━━━━━━━━━━━━\u001b[0m \u001b[32m21.3/21.3 MB\u001b[0m \u001b[31m46.7 MB/s\u001b[0m eta \u001b[36m0:00:00\u001b[0m\n",
            "\u001b[?25hCollecting accelerate>=0.23.0 (from transformer-lens->epsilon_transformers==0.1)\n",
            "  Downloading accelerate-0.30.1-py3-none-any.whl (302 kB)\n",
            "\u001b[2K     \u001b[90m━━━━━━━━━━━━━━━━━━━━━━━━━━━━━━━━━━━━━━━━\u001b[0m \u001b[32m302.6/302.6 kB\u001b[0m \u001b[31m36.4 MB/s\u001b[0m eta \u001b[36m0:00:00\u001b[0m\n",
            "\u001b[?25hCollecting beartype<0.15.0,>=0.14.1 (from transformer-lens->epsilon_transformers==0.1)\n",
            "  Downloading beartype-0.14.1-py3-none-any.whl (739 kB)\n",
            "\u001b[2K     \u001b[90m━━━━━━━━━━━━━━━━━━━━━━━━━━━━━━━━━━━━━━━━\u001b[0m \u001b[32m739.7/739.7 kB\u001b[0m \u001b[31m56.6 MB/s\u001b[0m eta \u001b[36m0:00:00\u001b[0m\n",
            "\u001b[?25hCollecting better-abc<0.0.4,>=0.0.3 (from transformer-lens->epsilon_transformers==0.1)\n",
            "  Downloading better_abc-0.0.3-py3-none-any.whl (3.5 kB)\n",
            "Collecting datasets>=2.7.1 (from transformer-lens->epsilon_transformers==0.1)\n",
            "  Downloading datasets-2.19.2-py3-none-any.whl (542 kB)\n",
            "\u001b[2K     \u001b[90m━━━━━━━━━━━━━━━━━━━━━━━━━━━━━━━━━━━━━━━━\u001b[0m \u001b[32m542.1/542.1 kB\u001b[0m \u001b[31m45.2 MB/s\u001b[0m eta \u001b[36m0:00:00\u001b[0m\n",
            "\u001b[?25hCollecting einops>=0.6.0 (from transformer-lens->epsilon_transformers==0.1)\n",
            "  Downloading einops-0.8.0-py3-none-any.whl (43 kB)\n",
            "\u001b[2K     \u001b[90m━━━━━━━━━━━━━━━━━━━━━━━━━━━━━━━━━━━━━━━━\u001b[0m \u001b[32m43.2/43.2 kB\u001b[0m \u001b[31m7.0 MB/s\u001b[0m eta \u001b[36m0:00:00\u001b[0m\n",
            "\u001b[?25hCollecting fancy-einsum>=0.0.3 (from transformer-lens->epsilon_transformers==0.1)\n",
            "  Downloading fancy_einsum-0.0.3-py3-none-any.whl (6.2 kB)\n",
            "Requirement already satisfied: rich>=12.6.0 in /usr/local/lib/python3.10/dist-packages (from transformer-lens->epsilon_transformers==0.1) (13.7.1)\n",
            "Requirement already satisfied: sentencepiece in /usr/local/lib/python3.10/dist-packages (from transformer-lens->epsilon_transformers==0.1) (0.1.99)\n",
            "Requirement already satisfied: transformers>=4.37.2 in /usr/local/lib/python3.10/dist-packages (from transformer-lens->epsilon_transformers==0.1) (4.41.1)\n",
            "Collecting docker-pycreds>=0.4.0 (from wandb->epsilon_transformers==0.1)\n",
            "  Downloading docker_pycreds-0.4.0-py2.py3-none-any.whl (9.0 kB)\n",
            "Collecting gitpython!=3.1.29,>=1.0.0 (from wandb->epsilon_transformers==0.1)\n",
            "  Downloading GitPython-3.1.43-py3-none-any.whl (207 kB)\n",
            "\u001b[2K     \u001b[90m━━━━━━━━━━━━━━━━━━━━━━━━━━━━━━━━━━━━━━━━\u001b[0m \u001b[32m207.3/207.3 kB\u001b[0m \u001b[31m33.6 MB/s\u001b[0m eta \u001b[36m0:00:00\u001b[0m\n",
            "\u001b[?25hRequirement already satisfied: protobuf!=4.21.0,<5,>=3.19.0 in /usr/local/lib/python3.10/dist-packages (from wandb->epsilon_transformers==0.1) (3.20.3)\n",
            "Requirement already satisfied: psutil>=5.0.0 in /usr/local/lib/python3.10/dist-packages (from wandb->epsilon_transformers==0.1) (5.9.5)\n",
            "Requirement already satisfied: requests<3,>=2.0.0 in /usr/local/lib/python3.10/dist-packages (from wandb->epsilon_transformers==0.1) (2.31.0)\n",
            "Collecting sentry-sdk>=1.0.0 (from wandb->epsilon_transformers==0.1)\n",
            "  Downloading sentry_sdk-2.3.1-py2.py3-none-any.whl (289 kB)\n",
            "\u001b[2K     \u001b[90m━━━━━━━━━━━━━━━━━━━━━━━━━━━━━━━━━━━━━━━━\u001b[0m \u001b[32m289.0/289.0 kB\u001b[0m \u001b[31m32.3 MB/s\u001b[0m eta \u001b[36m0:00:00\u001b[0m\n",
            "\u001b[?25hCollecting setproctitle (from wandb->epsilon_transformers==0.1)\n",
            "  Downloading setproctitle-1.3.3-cp310-cp310-manylinux_2_5_x86_64.manylinux1_x86_64.manylinux_2_17_x86_64.manylinux2014_x86_64.whl (30 kB)\n",
            "Requirement already satisfied: setuptools in /usr/local/lib/python3.10/dist-packages (from wandb->epsilon_transformers==0.1) (67.7.2)\n",
            "Requirement already satisfied: huggingface-hub in /usr/local/lib/python3.10/dist-packages (from accelerate>=0.23.0->transformer-lens->epsilon_transformers==0.1) (0.23.1)\n",
            "Requirement already satisfied: safetensors>=0.3.1 in /usr/local/lib/python3.10/dist-packages (from accelerate>=0.23.0->transformer-lens->epsilon_transformers==0.1) (0.4.3)\n",
            "Requirement already satisfied: urllib3!=2.2.0,<3,>=1.25.4 in /usr/local/lib/python3.10/dist-packages (from botocore<1.35.0,>=1.34.117->boto3->epsilon_transformers==0.1) (2.0.7)\n",
            "Requirement already satisfied: pyarrow>=12.0.0 in /usr/local/lib/python3.10/dist-packages (from datasets>=2.7.1->transformer-lens->epsilon_transformers==0.1) (14.0.2)\n",
            "Requirement already satisfied: pyarrow-hotfix in /usr/local/lib/python3.10/dist-packages (from datasets>=2.7.1->transformer-lens->epsilon_transformers==0.1) (0.6)\n",
            "Collecting dill<0.3.9,>=0.3.0 (from datasets>=2.7.1->transformer-lens->epsilon_transformers==0.1)\n",
            "  Downloading dill-0.3.8-py3-none-any.whl (116 kB)\n",
            "\u001b[2K     \u001b[90m━━━━━━━━━━━━━━━━━━━━━━━━━━━━━━━━━━━━━━━━\u001b[0m \u001b[32m116.3/116.3 kB\u001b[0m \u001b[31m20.7 MB/s\u001b[0m eta \u001b[36m0:00:00\u001b[0m\n",
            "\u001b[?25hCollecting requests<3,>=2.0.0 (from wandb->epsilon_transformers==0.1)\n",
            "  Downloading requests-2.32.3-py3-none-any.whl (64 kB)\n",
            "\u001b[2K     \u001b[90m━━━━━━━━━━━━━━━━━━━━━━━━━━━━━━━━━━━━━━━━\u001b[0m \u001b[32m64.9/64.9 kB\u001b[0m \u001b[31m11.9 MB/s\u001b[0m eta \u001b[36m0:00:00\u001b[0m\n",
            "\u001b[?25hCollecting xxhash (from datasets>=2.7.1->transformer-lens->epsilon_transformers==0.1)\n",
            "  Downloading xxhash-3.4.1-cp310-cp310-manylinux_2_17_x86_64.manylinux2014_x86_64.whl (194 kB)\n",
            "\u001b[2K     \u001b[90m━━━━━━━━━━━━━━━━━━━━━━━━━━━━━━━━━━━━━━━━\u001b[0m \u001b[32m194.1/194.1 kB\u001b[0m \u001b[31m32.2 MB/s\u001b[0m eta \u001b[36m0:00:00\u001b[0m\n",
            "\u001b[?25hCollecting multiprocess (from datasets>=2.7.1->transformer-lens->epsilon_transformers==0.1)\n",
            "  Downloading multiprocess-0.70.16-py310-none-any.whl (134 kB)\n",
            "\u001b[2K     \u001b[90m━━━━━━━━━━━━━━━━━━━━━━━━━━━━━━━━━━━━━━━━\u001b[0m \u001b[32m134.8/134.8 kB\u001b[0m \u001b[31m23.3 MB/s\u001b[0m eta \u001b[36m0:00:00\u001b[0m\n",
            "\u001b[?25hRequirement already satisfied: aiohttp in /usr/local/lib/python3.10/dist-packages (from datasets>=2.7.1->transformer-lens->epsilon_transformers==0.1) (3.9.5)\n",
            "Collecting gitdb<5,>=4.0.1 (from gitpython!=3.1.29,>=1.0.0->wandb->epsilon_transformers==0.1)\n",
            "  Downloading gitdb-4.0.11-py3-none-any.whl (62 kB)\n",
            "\u001b[2K     \u001b[90m━━━━━━━━━━━━━━━━━━━━━━━━━━━━━━━━━━━━━━━━\u001b[0m \u001b[32m62.7/62.7 kB\u001b[0m \u001b[31m11.6 MB/s\u001b[0m eta \u001b[36m0:00:00\u001b[0m\n",
            "\u001b[?25hRequirement already satisfied: httplib2<1dev,>=0.15.0 in /usr/local/lib/python3.10/dist-packages (from google-api-python-client>=1.2->PyDrive->epsilon_transformers==0.1) (0.22.0)\n",
            "Requirement already satisfied: google-auth<3.0.0dev,>=1.19.0 in /usr/local/lib/python3.10/dist-packages (from google-api-python-client>=1.2->PyDrive->epsilon_transformers==0.1) (2.27.0)\n",
            "Requirement already satisfied: google-auth-httplib2>=0.1.0 in /usr/local/lib/python3.10/dist-packages (from google-api-python-client>=1.2->PyDrive->epsilon_transformers==0.1) (0.1.1)\n",
            "Requirement already satisfied: google-api-core!=2.0.*,!=2.1.*,!=2.2.*,!=2.3.0,<3.0.0dev,>=1.31.5 in /usr/local/lib/python3.10/dist-packages (from google-api-python-client>=1.2->PyDrive->epsilon_transformers==0.1) (2.11.1)\n",
            "Requirement already satisfied: uritemplate<5,>=3.0.1 in /usr/local/lib/python3.10/dist-packages (from google-api-python-client>=1.2->PyDrive->epsilon_transformers==0.1) (4.1.1)\n",
            "Requirement already satisfied: pyasn1>=0.1.7 in /usr/local/lib/python3.10/dist-packages (from oauth2client>=4.0.0->PyDrive->epsilon_transformers==0.1) (0.6.0)\n",
            "Requirement already satisfied: pyasn1-modules>=0.0.5 in /usr/local/lib/python3.10/dist-packages (from oauth2client>=4.0.0->PyDrive->epsilon_transformers==0.1) (0.4.0)\n",
            "Requirement already satisfied: rsa>=3.1.4 in /usr/local/lib/python3.10/dist-packages (from oauth2client>=4.0.0->PyDrive->epsilon_transformers==0.1) (4.9)\n",
            "Requirement already satisfied: charset-normalizer<4,>=2 in /usr/local/lib/python3.10/dist-packages (from requests<3,>=2.0.0->wandb->epsilon_transformers==0.1) (3.3.2)\n",
            "Requirement already satisfied: idna<4,>=2.5 in /usr/local/lib/python3.10/dist-packages (from requests<3,>=2.0.0->wandb->epsilon_transformers==0.1) (3.7)\n",
            "Requirement already satisfied: certifi>=2017.4.17 in /usr/local/lib/python3.10/dist-packages (from requests<3,>=2.0.0->wandb->epsilon_transformers==0.1) (2024.2.2)\n",
            "Requirement already satisfied: markdown-it-py>=2.2.0 in /usr/local/lib/python3.10/dist-packages (from rich>=12.6.0->transformer-lens->epsilon_transformers==0.1) (3.0.0)\n",
            "Requirement already satisfied: pygments<3.0.0,>=2.13.0 in /usr/local/lib/python3.10/dist-packages (from rich>=12.6.0->transformer-lens->epsilon_transformers==0.1) (2.16.1)\n",
            "Requirement already satisfied: regex!=2019.12.17 in /usr/local/lib/python3.10/dist-packages (from transformers>=4.37.2->transformer-lens->epsilon_transformers==0.1) (2024.5.15)\n",
            "Requirement already satisfied: tokenizers<0.20,>=0.19 in /usr/local/lib/python3.10/dist-packages (from transformers>=4.37.2->transformer-lens->epsilon_transformers==0.1) (0.19.1)\n",
            "Requirement already satisfied: MarkupSafe>=2.0 in /usr/local/lib/python3.10/dist-packages (from jinja2->torch->epsilon_transformers==0.1) (2.1.5)\n",
            "Requirement already satisfied: mpmath>=0.19 in /usr/local/lib/python3.10/dist-packages (from sympy->torch->epsilon_transformers==0.1) (1.3.0)\n",
            "Requirement already satisfied: aiosignal>=1.1.2 in /usr/local/lib/python3.10/dist-packages (from aiohttp->datasets>=2.7.1->transformer-lens->epsilon_transformers==0.1) (1.3.1)\n",
            "Requirement already satisfied: attrs>=17.3.0 in /usr/local/lib/python3.10/dist-packages (from aiohttp->datasets>=2.7.1->transformer-lens->epsilon_transformers==0.1) (23.2.0)\n",
            "Requirement already satisfied: frozenlist>=1.1.1 in /usr/local/lib/python3.10/dist-packages (from aiohttp->datasets>=2.7.1->transformer-lens->epsilon_transformers==0.1) (1.4.1)\n",
            "Requirement already satisfied: multidict<7.0,>=4.5 in /usr/local/lib/python3.10/dist-packages (from aiohttp->datasets>=2.7.1->transformer-lens->epsilon_transformers==0.1) (6.0.5)\n",
            "Requirement already satisfied: yarl<2.0,>=1.0 in /usr/local/lib/python3.10/dist-packages (from aiohttp->datasets>=2.7.1->transformer-lens->epsilon_transformers==0.1) (1.9.4)\n",
            "Requirement already satisfied: async-timeout<5.0,>=4.0 in /usr/local/lib/python3.10/dist-packages (from aiohttp->datasets>=2.7.1->transformer-lens->epsilon_transformers==0.1) (4.0.3)\n",
            "Collecting smmap<6,>=3.0.1 (from gitdb<5,>=4.0.1->gitpython!=3.1.29,>=1.0.0->wandb->epsilon_transformers==0.1)\n",
            "  Downloading smmap-5.0.1-py3-none-any.whl (24 kB)\n",
            "Requirement already satisfied: googleapis-common-protos<2.0.dev0,>=1.56.2 in /usr/local/lib/python3.10/dist-packages (from google-api-core!=2.0.*,!=2.1.*,!=2.2.*,!=2.3.0,<3.0.0dev,>=1.31.5->google-api-python-client>=1.2->PyDrive->epsilon_transformers==0.1) (1.63.0)\n",
            "Requirement already satisfied: cachetools<6.0,>=2.0.0 in /usr/local/lib/python3.10/dist-packages (from google-auth<3.0.0dev,>=1.19.0->google-api-python-client>=1.2->PyDrive->epsilon_transformers==0.1) (5.3.3)\n",
            "Requirement already satisfied: mdurl~=0.1 in /usr/local/lib/python3.10/dist-packages (from markdown-it-py>=2.2.0->rich>=12.6.0->transformer-lens->epsilon_transformers==0.1) (0.1.2)\n",
            "Building wheels for collected packages: epsilon_transformers, fire\n",
            "  Building editable for epsilon_transformers (pyproject.toml) ... \u001b[?25l\u001b[?25hdone\n",
            "  Created wheel for epsilon_transformers: filename=epsilon_transformers-0.1-0.editable-py3-none-any.whl size=2941 sha256=079d2b279151cd7c79d05e9c8f60eee699c9e9642fde4c63036225e1cbd47f5c\n",
            "  Stored in directory: /tmp/pip-ephem-wheel-cache-3ara_wgf/wheels/b3/d7/07/1df0a2f3e559b1b2381019428554e9038d28af7b8e5af5a83f\n",
            "  Building wheel for fire (setup.py) ... \u001b[?25l\u001b[?25hdone\n",
            "  Created wheel for fire: filename=fire-0.6.0-py2.py3-none-any.whl size=117029 sha256=c9ae109f3a7fcb6b4040e64dfa12c8dd9e96a9a69326366699e438300f2042df\n",
            "  Stored in directory: /root/.cache/pip/wheels/d6/6d/5d/5b73fa0f46d01a793713f8859201361e9e581ced8c75e5c6a3\n",
            "Successfully built epsilon_transformers fire\n",
            "Installing collected packages: better-abc, xxhash, typeguard, smmap, setproctitle, sentry-sdk, requests, python-dotenv, pathspec, nvidia-nvtx-cu12, nvidia-nvjitlink-cu12, nvidia-nccl-cu12, nvidia-curand-cu12, nvidia-cufft-cu12, nvidia-cuda-runtime-cu12, nvidia-cuda-nvrtc-cu12, nvidia-cuda-cupti-cu12, nvidia-cublas-cu12, mypy-extensions, jmespath, fire, fancy-einsum, einops, docker-pycreds, dill, beartype, nvidia-cusparse-cu12, nvidia-cudnn-cu12, mypy, multiprocess, jaxtyping, gitdb, botocore, black, s3transfer, nvidia-cusolver-cu12, gitpython, wandb, datasets, boto3, accelerate, transformer-lens, epsilon_transformers\n",
            "  Attempting uninstall: requests\n",
            "    Found existing installation: requests 2.31.0\n",
            "    Uninstalling requests-2.31.0:\n",
            "      Successfully uninstalled requests-2.31.0\n",
            "\u001b[31mERROR: pip's dependency resolver does not currently take into account all the packages that are installed. This behaviour is the source of the following dependency conflicts.\n",
            "google-colab 1.0.0 requires requests==2.31.0, but you have requests 2.32.3 which is incompatible.\u001b[0m\u001b[31m\n",
            "\u001b[0mSuccessfully installed accelerate-0.30.1 beartype-0.14.1 better-abc-0.0.3 black-24.4.2 boto3-1.34.117 botocore-1.34.117 datasets-2.19.2 dill-0.3.8 docker-pycreds-0.4.0 einops-0.8.0 epsilon_transformers-0.1 fancy-einsum-0.0.3 fire-0.6.0 gitdb-4.0.11 gitpython-3.1.43 jaxtyping-0.2.29 jmespath-1.0.1 multiprocess-0.70.16 mypy-1.10.0 mypy-extensions-1.0.0 nvidia-cublas-cu12-12.1.3.1 nvidia-cuda-cupti-cu12-12.1.105 nvidia-cuda-nvrtc-cu12-12.1.105 nvidia-cuda-runtime-cu12-12.1.105 nvidia-cudnn-cu12-8.9.2.26 nvidia-cufft-cu12-11.0.2.54 nvidia-curand-cu12-10.3.2.106 nvidia-cusolver-cu12-11.4.5.107 nvidia-cusparse-cu12-12.1.0.106 nvidia-nccl-cu12-2.20.5 nvidia-nvjitlink-cu12-12.5.40 nvidia-nvtx-cu12-12.1.105 pathspec-0.12.1 python-dotenv-1.0.1 requests-2.32.3 s3transfer-0.10.1 sentry-sdk-2.3.1 setproctitle-1.3.3 smmap-5.0.1 transformer-lens-2.0.0 typeguard-2.13.3 wandb-0.17.0 xxhash-3.4.1\n"
          ]
        }
      ],
      "source": [
        "# Step 1: Clone the specific branch hackathon-prep\n",
        "!git clone --branch hackathon-prep https://github.com/adamimos/epsilon-transformers.git\n",
        "%cd epsilon-transformers\n",
        "\n",
        "# Step 2: Install the necessary dependencies\n",
        "!pip install -e .\n",
        "\n",
        "# Step 3: Install gdown if not already installed\n",
        "#!pip install gdown\n",
        "\n",
        "# Step 4: Download the RRXOR experiment data\n",
        "#!gdown \"https://drive.google.com/uc?id=1PYMcdvvJ_FW31rQDBmnNKz9LOyFEcfqQ\" -O vfs4q106-rrxor.zip\n",
        "\n",
        "# Step 5: Unzip the data in the correct location\n",
        "#!unzip vfs4q106-rrxor.zip -d examples/models/\n"
      ]
    },
    {
      "cell_type": "code",
      "source": [
        "from epsilon_transformers.process.processes import ZeroOneR, GoldenMean, Mess3\n"
      ],
      "metadata": {
        "id": "L5De9TYs6fV0"
      },
      "execution_count": 5,
      "outputs": []
    },
    {
      "cell_type": "code",
      "source": [
        "from epsilon_transformers.process.Process import Process\n",
        "import numpy as np\n",
        "\n",
        "class GluedProcess(Process):\n",
        "  def __init__(self, proc1, proc2, join_on=dict(), weights=(0.5,0.5)):\n",
        "        # join_on is a dictionary that maps vocubulary from Process 2 to Process 1\n",
        "        # So join_on = {0: 1} means that emitting a \"0\" in Process 2 looks the same\n",
        "        # as emitting a \"1\" in Process 1, but all other vocubulary of Process 1\n",
        "        # is discernable.\n",
        "\n",
        "        self.name = proc1.name + \"+\" + proc2.name\n",
        "        self.proc1 = proc1\n",
        "        self.proc2 = proc2\n",
        "        self.weights = weights\n",
        "        self.join_on = join_on\n",
        "        super().__init__()\n",
        "\n",
        "  def _create_hmm(self):\n",
        "        n_states = len(self.proc1.state_names_dict)\n",
        "        state_names = self.proc1.state_names_dict.copy()\n",
        "        for key, val in self.proc2.state_names_dict.items():\n",
        "          # choose a unique name for merged state in case it is already occupied\n",
        "          while key in state_names:\n",
        "            key += \"_\"\n",
        "          state_names[key] = n_states\n",
        "          n_states += 1\n",
        "\n",
        "        # For a combination in which the vocabulary is disjoint, the vocab\n",
        "        # size is the sum, else the larger of the two\n",
        "        vocab_len = self.proc1.vocab_len + self.proc2.vocab_len - len(self.join_on)\n",
        "        T = np.zeros((vocab_len, n_states, n_states))\n",
        "\n",
        "        # Copying over values from Proc1\n",
        "        shape1 = self.proc1.transition_matrix.shape\n",
        "        print(shape1)\n",
        "        T[:shape1[0],:shape1[1],:shape1[2]] = self.proc1.transition_matrix\n",
        "\n",
        "        # Copying from Proc2\n",
        "        new_v = 0 # This counts the number of new vocabulary tokens\n",
        "        for v in range(self.proc2.vocab_len):\n",
        "          if v in self.join_on:\n",
        "            T[self.join_on[v],shape1[1]:, shape1[2]:] = self.proc2.transition_matrix[v,:,:]\n",
        "          else:\n",
        "            T[shape1[0]+new_v,shape1[1]:, shape1[2]:] = self.proc2.transition_matrix[v,:,:]\n",
        "            new_v += 1\n",
        "\n",
        "        print(T)\n",
        "        return T, state_names\n",
        "\n",
        "  @property\n",
        "  def steady_state_vector(self):\n",
        "      steady_state_vector = np.concatenate((self.proc1.steady_state_vector * self.weights[0], self.proc2.steady_state_vector * self.weights[1]))\n",
        "      #steady_state_vector = np.ones((self.num_states))\n",
        "\n",
        "      out = steady_state_vector / steady_state_vector.sum()\n",
        "      assert out.ndim == 1\n",
        "      assert len(out) == self.num_states\n",
        "      return out\n",
        "\n",
        "\n",
        "class BiasedCoin(Process):\n",
        "    def __init__(self, bias: float = 0.5):\n",
        "        self.name = \"bc\"\n",
        "        self.p = bias\n",
        "        super().__init__()\n",
        "\n",
        "    def _create_hmm(self):\n",
        "        T = np.zeros((2, 1, 1))\n",
        "        state_names = {\"0\": 0}\n",
        "        T[0, state_names[\"0\"], state_names[\"0\"]] = self.p\n",
        "        T[1, state_names[\"0\"], state_names[\"0\"]] = 1-self.p\n",
        "\n",
        "        return T, state_names\n",
        "\n",
        "class D3(Process):\n",
        "    def __init__(self,a,b):\n",
        "        self.name = \"d3\"\n",
        "        self.a = a\n",
        "        self.b = b\n",
        "        super().__init__()\n",
        "\n",
        "    def _create_hmm(self):\n",
        "        T = np.zeros((3, 1, 1))\n",
        "        state_names = {\"0\": 0}\n",
        "        T[0, state_names[\"0\"], state_names[\"0\"]] = self.a\n",
        "        T[1, state_names[\"0\"], state_names[\"0\"]] = self.b\n",
        "        T[2, state_names[\"0\"], state_names[\"0\"]] = 1-self.a-self.b\n",
        "\n",
        "        return T, state_names"
      ],
      "metadata": {
        "id": "CIaVSyo3puiV"
      },
      "execution_count": 6,
      "outputs": []
    },
    {
      "cell_type": "code",
      "source": [
        "from epsilon_transformers.visualization.graph import transition_matrix_to_graph, visualize_graph\n",
        "\n",
        "graph = transition_matrix_to_graph(transition_matrix=gp.transition_matrix,state_names=gp.state_names_dict)\n",
        "visualize_graph(graph, draw_mixed_state=True, layout=\"circular\")\n"
      ],
      "metadata": {
        "colab": {
          "base_uri": "https://localhost:8080/",
          "height": 216
        },
        "id": "jpz55-CBtYO2",
        "outputId": "14100811-93b2-47e7-bcb3-c8ba988400b3"
      },
      "execution_count": 7,
      "outputs": [
        {
          "output_type": "error",
          "ename": "NameError",
          "evalue": "name 'gp' is not defined",
          "traceback": [
            "\u001b[0;31m---------------------------------------------------------------------------\u001b[0m",
            "\u001b[0;31mNameError\u001b[0m                                 Traceback (most recent call last)",
            "\u001b[0;32m<ipython-input-7-766afeab2735>\u001b[0m in \u001b[0;36m<cell line: 3>\u001b[0;34m()\u001b[0m\n\u001b[1;32m      1\u001b[0m \u001b[0;32mfrom\u001b[0m \u001b[0mepsilon_transformers\u001b[0m\u001b[0;34m.\u001b[0m\u001b[0mvisualization\u001b[0m\u001b[0;34m.\u001b[0m\u001b[0mgraph\u001b[0m \u001b[0;32mimport\u001b[0m \u001b[0mtransition_matrix_to_graph\u001b[0m\u001b[0;34m,\u001b[0m \u001b[0mvisualize_graph\u001b[0m\u001b[0;34m\u001b[0m\u001b[0;34m\u001b[0m\u001b[0m\n\u001b[1;32m      2\u001b[0m \u001b[0;34m\u001b[0m\u001b[0m\n\u001b[0;32m----> 3\u001b[0;31m \u001b[0mgraph\u001b[0m \u001b[0;34m=\u001b[0m \u001b[0mtransition_matrix_to_graph\u001b[0m\u001b[0;34m(\u001b[0m\u001b[0mtransition_matrix\u001b[0m\u001b[0;34m=\u001b[0m\u001b[0mgp\u001b[0m\u001b[0;34m.\u001b[0m\u001b[0mtransition_matrix\u001b[0m\u001b[0;34m,\u001b[0m\u001b[0mstate_names\u001b[0m\u001b[0;34m=\u001b[0m\u001b[0mgp\u001b[0m\u001b[0;34m.\u001b[0m\u001b[0mstate_names_dict\u001b[0m\u001b[0;34m)\u001b[0m\u001b[0;34m\u001b[0m\u001b[0;34m\u001b[0m\u001b[0m\n\u001b[0m\u001b[1;32m      4\u001b[0m \u001b[0mvisualize_graph\u001b[0m\u001b[0;34m(\u001b[0m\u001b[0mgraph\u001b[0m\u001b[0;34m,\u001b[0m \u001b[0mdraw_mixed_state\u001b[0m\u001b[0;34m=\u001b[0m\u001b[0;32mTrue\u001b[0m\u001b[0;34m,\u001b[0m \u001b[0mlayout\u001b[0m\u001b[0;34m=\u001b[0m\u001b[0;34m\"circular\"\u001b[0m\u001b[0;34m)\u001b[0m\u001b[0;34m\u001b[0m\u001b[0;34m\u001b[0m\u001b[0m\n",
            "\u001b[0;31mNameError\u001b[0m: name 'gp' is not defined"
          ]
        }
      ]
    },
    {
      "cell_type": "code",
      "source": [
        "from epsilon_transformers.visualization.plots import _project_to_simplex\n",
        "import matplotlib.pyplot as plt\n",
        "\n",
        "proc1 = D3(0.6,0.2)\n",
        "proc2 = D3(0.2,0.6)\n",
        "proc3 = D3(0.2,0.2)\n",
        "process = GluedProcess(proc3, GluedProcess(proc1, proc2, {0:0,1:1,2:2}), {0:0,1:1,2:2}, weights=(1, 2))\n",
        "mixed_state_tree = process.derive_mixed_state_presentation(depth=5)\n",
        "MSP_transition_matrix = mixed_state_tree.build_msp_transition_matrix()\n",
        "\n",
        "tree_paths, tree_beliefs = mixed_state_tree.paths_and_belief_states\n",
        "\n",
        "msp_beliefs = [tuple(round(b, 5) for b in belief) for belief in tree_beliefs]\n",
        "msp_belief_index = {b: i for i, b in enumerate(set(msp_beliefs))}\n",
        "ground_truth_simplex = _project_to_simplex(np.array(list(msp_belief_index.keys())))\n",
        "plt.figure(figsize=(4.5, 4))\n",
        "plt.scatter(ground_truth_simplex[0], ground_truth_simplex[1], c=[k for k in list(msp_belief_index.keys())], alpha=.75, s=5)\n",
        "plt.title(\"Ground Truth Simplex\")\n",
        "plt.gca().set_axis_off()\n",
        "plt.show()\n"
      ],
      "metadata": {
        "id": "RoJ-QZgithtp"
      },
      "execution_count": null,
      "outputs": []
    },
    {
      "cell_type": "markdown",
      "source": [
        "Transformer training\n"
      ],
      "metadata": {
        "id": "0j8974VJ6bwn"
      }
    },
    {
      "cell_type": "code",
      "source": [
        "import torch\n",
        "import transformer_lens\n",
        "import transformer_lens.utils as utils\n",
        "from transformer_lens.hook_points import (\n",
        "    HookedRootModule,\n",
        "    HookPoint,\n",
        ")  # Hooking utilities\n",
        "from transformer_lens import HookedTransformer, HookedTransformerConfig, FactoredMatrix, ActivationCache\n",
        "\n",
        "\n",
        "device = \"cuda\" if torch.cuda.is_available() else \"cpu\""
      ],
      "metadata": {
        "id": "eBoj5FRhEB4O"
      },
      "execution_count": null,
      "outputs": []
    },
    {
      "cell_type": "code",
      "source": [
        "from epsilon_transformers.persistence import S3Persister, HackyPersister\n",
        "from epsilon_transformers.training.configs.model_configs import RawModelConfig\n",
        "from epsilon_transformers.process.processes import RRXOR, Mess3\n",
        "from epsilon_transformers.analysis.activation_analysis import get_beliefs_for_transformer_inputs\n",
        "from epsilon_transformers.visualization.plots import _project_to_simplex\n",
        "import seaborn as sns\n",
        "\n",
        "import numpy as np\n",
        "import torch\n",
        "import plotly.express as px\n",
        "import matplotlib.pyplot as plt\n",
        "import pathlib\n",
        "\n",
        "from sklearn.linear_model import LinearRegression\n",
        "from sklearn.decomposition import PCA"
      ],
      "metadata": {
        "id": "Qj86qldcENSL"
      },
      "execution_count": null,
      "outputs": []
    },
    {
      "cell_type": "code",
      "source": [
        "def get_transformer_data_from_process(process, n_ctx):\n",
        "    mixed_state_tree = process.derive_mixed_state_presentation(depth=n_ctx+1)\n",
        "    tree_paths, tree_beliefs = mixed_state_tree.paths_and_belief_states\n",
        "    transformer_data = [x for x in tree_paths if len(x) == n_ctx+1]\n",
        "    transformer_data = torch.tensor(transformer_data)\n",
        "    transformer_input = transformer_data[:, :-1]\n",
        "    transformer_target = transformer_data[:, 1:]\n",
        "    return transformer_input, transformer_target\n",
        "\n",
        "def get_lower_bound_for_cross_entropy(process, n_ctx):\n",
        "    mixed_state_tree = process.derive_mixed_state_presentation(depth=n_ctx+1)\n",
        "    myopic_entropy = mixed_state_tree.myopic_entropy\n",
        "    return myopic_entropy[1:]"
      ],
      "metadata": {
        "id": "z83TDfiCEVX7"
      },
      "execution_count": null,
      "outputs": []
    },
    {
      "cell_type": "code",
      "source": [
        "cfg = HookedTransformerConfig(\n",
        "    n_layers = 2,\n",
        "    n_heads = 3,\n",
        "    d_model = 9,\n",
        "    d_head = 3,\n",
        "    d_mlp = 9,\n",
        "    act_fn = \"relu\",\n",
        "    normalization_type=None,\n",
        "    d_vocab=3,\n",
        "    n_ctx=6,\n",
        "    init_weights=True,\n",
        "    device=device,\n",
        "    seed = 999,\n",
        ")"
      ],
      "metadata": {
        "id": "Skv_LKl8Ekw0"
      },
      "execution_count": null,
      "outputs": []
    },
    {
      "cell_type": "code",
      "source": [
        "import torch\n",
        "from torch.utils.data import IterableDataset, DataLoader\n",
        "from typing import List, Tuple, Iterable\n",
        "\n",
        "\n",
        "class ProcessDataset(IterableDataset):\n",
        "\n",
        "    def __init__(self, process, sequence_length, num_samples, fixed=False):\n",
        "        super().__init__()\n",
        "        self.process = process\n",
        "        self.sequence_length = sequence_length\n",
        "        self.num_samples = num_samples\n",
        "        self.fixed = fixed\n",
        "        if self.fixed:\n",
        "          self.samples = list(self._get_samples())\n",
        "        else:\n",
        "          self.samples = None\n",
        "\n",
        "    def _get_samples(self):\n",
        "      return process.yield_emissions(\n",
        "            sequence_len=self.num_samples * (self.sequence_length + 1)\n",
        "        )\n",
        "\n",
        "    def __len__(self):\n",
        "        return self.num_samples\n",
        "\n",
        "    def __iter__(self) -> Iterable[Tuple[List[int]]]:\n",
        "        samples = self._get_samples() if self.samples is None else iter(self.samples)\n",
        "        for _ in range(self.num_samples):\n",
        "            process_history = [\n",
        "                next(samples) for _ in range(self.sequence_length + 1)\n",
        "            ]\n",
        "            yield (process_history[:-1], process_history[1:])\n",
        "\n",
        "\n",
        "def process_dataset_collate_fn(batch: List[Tuple[List[int]]]):\n",
        "    data = [x[0] for x in batch]\n",
        "    labels = [x[1] for x in batch]\n",
        "    return torch.tensor(data, dtype=torch.long), torch.tensor(labels, dtype=torch.long)\n",
        "\n",
        "\n",
        "train_dataset = ProcessDataset(process, sequence_length=cfg.n_ctx, num_samples=10000,\n",
        "                                     fixed=False)\n",
        "train_dataloader = DataLoader(train_dataset, batch_size=100, collate_fn=process_dataset_collate_fn)\n",
        "val_dataset = ProcessDataset(process, sequence_length=cfg.n_ctx, num_samples=1000,\n",
        "                                   fixed=True)\n",
        "val_dataloader = DataLoader(val_dataset, batch_size=100, collate_fn=process_dataset_collate_fn)"
      ],
      "metadata": {
        "id": "xuMTautumzgr"
      },
      "execution_count": null,
      "outputs": []
    },
    {
      "cell_type": "code",
      "source": [
        "proc1 = D3(0.6,0.2)\n",
        "proc2 = D3(0.2,0.6)\n",
        "proc3 = D3(0.2,0.2)\n",
        "process = GluedProcess(proc3, GluedProcess(proc1, proc2, {0:0,1:1,2:2}), {0:0,1:1,2:2}, weights=(1, 2))\n",
        "transformer_inputs, transformer_targets = get_transformer_data_from_process(process, cfg.n_ctx)\n",
        "minimum_loss = np.mean(get_lower_bound_for_cross_entropy(process, cfg.n_ctx))\n",
        "print(f\"Minimum Loss: {minimum_loss}\")\n",
        "transformer_inputs = transformer_inputs.to(device)\n",
        "transformer_targets = transformer_targets.to(device)\n",
        "\n",
        "mixed_state_tree = process.derive_mixed_state_presentation(depth=cfg.n_ctx)\n",
        "MSP_transition_matrix = mixed_state_tree.build_msp_transition_matrix()\n",
        "\n",
        "tree_paths, tree_beliefs = mixed_state_tree.paths_and_belief_states\n",
        "msp_beliefs = [tuple(round(b, 5) for b in belief) for belief in tree_beliefs]\n",
        "msp_belief_index = {b: i for i, b in enumerate(set(msp_beliefs))}"
      ],
      "metadata": {
        "id": "OYnAUPesEstY"
      },
      "execution_count": null,
      "outputs": []
    },
    {
      "cell_type": "code",
      "source": [
        "model = HookedTransformer(cfg)\n"
      ],
      "metadata": {
        "id": "7xKW7GVvFMaV"
      },
      "execution_count": null,
      "outputs": []
    },
    {
      "cell_type": "code",
      "source": [
        "from tqdm import tqdm\n",
        "loss_fn = torch.nn.CrossEntropyLoss()\n",
        "optimizer = torch.optim.SGD(model.parameters(), lr=0.1)\n",
        "scheduler = torch.optim.lr_scheduler.StepLR(optimizer, step_size=10, gamma=0.1)\n",
        "for epoch in tqdm(range(10000)):\n",
        "    train_logits = model(transformer_inputs)\n",
        "    train_loss = loss_fn(train_logits.view(-1, cfg.d_vocab), transformer_targets.flatten())\n",
        "    train_loss.backward()\n",
        "    optimizer.step()\n",
        "    optimizer.zero_grad()\n",
        "    if epoch % 100 == 0:\n",
        "        print(f\"Epoch {epoch+1}/{10000}, Loss: {train_loss.item()/minimum_loss*100} percent of minimum, LR: {optimizer.param_groups[0]['lr']}\")\n",
        "        scheduler.step()"
      ],
      "metadata": {
        "id": "iylTEAD_FQvp"
      },
      "execution_count": null,
      "outputs": []
    },
    {
      "cell_type": "code",
      "source": [
        "import torch\n",
        "\n",
        "\n",
        "# 保存整个模型到当前工作目录\n",
        "filename = 'd3.pth'\n",
        "torch.save(model, filename)\n",
        "\n"
      ],
      "metadata": {
        "id": "1TrDvgmKCXq4"
      },
      "execution_count": 291,
      "outputs": []
    },
    {
      "cell_type": "code",
      "source": [
        "!ls -l\n"
      ],
      "metadata": {
        "colab": {
          "base_uri": "https://localhost:8080/"
        },
        "id": "mr2SMe39Uo4D",
        "outputId": "15360f8d-22e0-4bb5-a78c-7818c897ccd4"
      },
      "execution_count": null,
      "outputs": [
        {
          "output_type": "stream",
          "name": "stdout",
          "text": [
            "total 52\n",
            "drwxr-xr-x 8 root root  4096 Jun  2 19:51 epsilon-transformers\n",
            "drwxr-xr-x 8 root root  4096 Jun  2 17:28 epsilon_transformers\n",
            "drwxr-xr-x 2 root root  4096 Jun  2 19:55 epsilon_transformers.egg-info\n",
            "drwxr-xr-x 2 root root  4096 Jun  2 17:26 examples\n",
            "-rw-r--r-- 1 root root 19574 Jun  2 20:01 my_model.pth\n",
            "-rw-r--r-- 1 root root   584 Jun  2 17:26 pyproject.toml\n",
            "-rw-r--r-- 1 root root  2686 Jun  2 17:26 README.md\n",
            "drwxr-xr-x 2 root root  4096 Jun  2 17:26 scripts\n",
            "drwxr-xr-x 2 root root  4096 Jun  2 17:26 tests\n"
          ]
        }
      ]
    },
    {
      "cell_type": "code",
      "source": [
        "# 加载模型\n",
        "loaded_model = torch.load(filename)\n",
        "\n",
        "# 检查模型是否相同\n",
        "# 这可以通过比较某些输出或模型参数来进行\n",
        "pruned_paths = tree_paths\n",
        "input_example = torch.randint(low=0, high=proc1.vocab_len, size=(1, cfg.n_ctx))  # 假设词汇表大小为vocab_size\n",
        "input_example = input_example.long()  # 转换输入数据类型\n",
        "original_output = model(input_example)\n",
        "loaded_output = loaded_model(input_example)\n",
        "print(torch.equal(original_output, loaded_output))  # 输出应该是 True\n"
      ],
      "metadata": {
        "colab": {
          "base_uri": "https://localhost:8080/"
        },
        "id": "JQYwhbJDVBbB",
        "outputId": "5257a7dd-07df-497c-dcc5-3a94b48e0f95"
      },
      "execution_count": 292,
      "outputs": [
        {
          "output_type": "stream",
          "name": "stdout",
          "text": [
            "True\n"
          ]
        }
      ]
    },
    {
      "cell_type": "code",
      "source": [
        "device = 'cuda' if torch.cuda.is_available() else 'cpu'\n",
        "transformer_inputs = [x for x in pruned_paths if len(x) == cfg.n_ctx]\n",
        "transformer_inputs = torch.tensor(transformer_inputs, dtype=torch.int).to(device)\n",
        "\n",
        "# print first few batches\n",
        "print(transformer_inputs)\n",
        "transformer_input_beliefs, transformer_input_belief_indices = get_beliefs_for_transformer_inputs(transformer_inputs, msp_belief_index, pruned_paths, tree_beliefs)\n",
        "print(f\"Transformer Input Beliefs: {transformer_input_beliefs.shape}, Transformer Input Belief Indices: {transformer_input_belief_indices.shape}\")\n"
      ],
      "metadata": {
        "colab": {
          "base_uri": "https://localhost:8080/"
        },
        "id": "ufjqUp0sWKNk",
        "outputId": "b0b03c67-a424-4b64-eb26-f8223efa8423"
      },
      "execution_count": 294,
      "outputs": [
        {
          "output_type": "stream",
          "name": "stdout",
          "text": [
            "tensor([[0, 2, 1, 2, 1, 1],\n",
            "        [1, 2, 0, 1, 1, 1],\n",
            "        [1, 2, 1, 1, 1, 0],\n",
            "        ...,\n",
            "        [0, 1, 0, 1, 2, 0],\n",
            "        [2, 0, 2, 0, 0, 2],\n",
            "        [2, 2, 1, 0, 0, 0]], dtype=torch.int32)\n",
            "Transformer Input Beliefs: torch.Size([729, 6, 3]), Transformer Input Belief Indices: torch.Size([729, 6])\n"
          ]
        }
      ]
    },
    {
      "cell_type": "code",
      "source": [
        "device = torch.device(\"cuda\" if torch.cuda.is_available() else \"cpu\")\n",
        "\n",
        "model = torch.load(filename)\n",
        "_, activations = model.run_with_cache(transformer_inputs, names_filter=lambda x: 'resid_post' in x)\n",
        "print(activations.keys())\n"
      ],
      "metadata": {
        "colab": {
          "base_uri": "https://localhost:8080/"
        },
        "id": "kW9WHw3CY2Wl",
        "outputId": "eb628991-c436-4ddc-f2db-222be4a9669d"
      },
      "execution_count": 295,
      "outputs": [
        {
          "output_type": "stream",
          "name": "stdout",
          "text": [
            "dict_keys(['blocks.0.hook_resid_post', 'blocks.1.hook_resid_post'])\n"
          ]
        }
      ]
    },
    {
      "cell_type": "code",
      "source": [
        "# we now have activations [batch, n_ctx, d_model]\n",
        "# and we have transformer_input_beliefs [batch, n_ctx, belief_dim]\n",
        "# and we have transformer_input_belief_indices [batch, n_ctx]\n",
        "\n",
        "# in the end we want to do linear regression between the activations and the transformer_input_beliefs\n",
        "def run_activation_to_beliefs_regression(activations, ground_truth_beliefs):\n",
        "\n",
        "    # make sure the first two dimensions are the same\n",
        "    assert activations.shape[0] == ground_truth_beliefs.shape[0]\n",
        "    assert activations.shape[1] == ground_truth_beliefs.shape[1]\n",
        "\n",
        "    # flatten the activations\n",
        "    batch_size, n_ctx, d_model = activations.shape\n",
        "    belief_dim = ground_truth_beliefs.shape[-1]\n",
        "    activations_flattened = activations.view(-1, d_model) # [batch * n_ctx, d_model]\n",
        "    ground_truth_beliefs_flattened = ground_truth_beliefs.view(-1, belief_dim) # [batch * n_ctx, belief_dim]\n",
        "\n",
        "    # run the regression\n",
        "    regression = LinearRegression()\n",
        "    regression.fit(activations_flattened, ground_truth_beliefs_flattened)\n",
        "\n",
        "    # get the belief predictions\n",
        "    belief_predictions = regression.predict(activations_flattened) # [batch * n_ctx, belief_dim]\n",
        "    belief_predictions = belief_predictions.reshape(batch_size, n_ctx, belief_dim)\n",
        "\n",
        "    return regression, belief_predictions\n"
      ],
      "metadata": {
        "id": "-dZE9wz0bPL2"
      },
      "execution_count": 296,
      "outputs": []
    },
    {
      "cell_type": "code",
      "source": [
        "acts = torch.cat([v for k, v in activations.items()], dim=-1)\n",
        "regression, belief_predictions = run_activation_to_beliefs_regression(acts, transformer_input_beliefs)\n",
        "print(f\"Shape of belief_predictions: {belief_predictions.shape}\")"
      ],
      "metadata": {
        "colab": {
          "base_uri": "https://localhost:8080/"
        },
        "id": "U6Hj5Rc_bSbg",
        "outputId": "0910bb78-7303-489f-f999-acbe49e1be70"
      },
      "execution_count": 297,
      "outputs": [
        {
          "output_type": "stream",
          "name": "stdout",
          "text": [
            "Shape of belief_predictions: (729, 6, 3)\n"
          ]
        }
      ]
    },
    {
      "cell_type": "code",
      "source": [],
      "metadata": {
        "colab": {
          "base_uri": "https://localhost:8080/",
          "height": 144
        },
        "id": "AcIPPJhvjVIK",
        "outputId": "47895459-47bb-4c5e-963d-bcc6ee529940"
      },
      "execution_count": 3,
      "outputs": [
        {
          "output_type": "error",
          "ename": "NameError",
          "evalue": "name 'regression' is not defined",
          "traceback": [
            "\u001b[0;31m---------------------------------------------------------------------------\u001b[0m",
            "\u001b[0;31mNameError\u001b[0m                                 Traceback (most recent call last)",
            "\u001b[0;32m<ipython-input-3-f23253d59639>\u001b[0m in \u001b[0;36m<cell line: 1>\u001b[0;34m()\u001b[0m\n\u001b[0;32m----> 1\u001b[0;31m \u001b[0mregression\u001b[0m\u001b[0;34m\u001b[0m\u001b[0;34m\u001b[0m\u001b[0m\n\u001b[0m",
            "\u001b[0;31mNameError\u001b[0m: name 'regression' is not defined"
          ]
        }
      ]
    },
    {
      "cell_type": "code",
      "source": [
        "from epsilon_transformers.analysis.activation_analysis import find_msp_subspace_in_residual_stream\n",
        "from epsilon_transformers.process.processes import Mess3\n",
        "\n",
        "\n",
        "belief_predictions_flattened = belief_predictions.reshape(-1, 3)\n",
        "transformer_input_belief_flattened = transformer_input_beliefs.reshape(-1, 3)\n",
        "\n",
        "# project to simplex\n",
        "belief_true_projected = _project_to_simplex(transformer_input_belief_flattened)\n",
        "belief_pred_projected = _project_to_simplex(belief_predictions_flattened)\n",
        "\n",
        "rgb_colors =  transformer_input_belief_flattened.cpu().numpy()\n",
        "#rgb_colors = rgb_colors.astype(int)\n",
        "\n",
        "sns.set_context(\"paper\")\n",
        "fig, axes = plt.subplots(1, 2, figsize=(6, 3))\n",
        "\n",
        "# Plotting the true beliefs projected onto the simplex\n",
        "axes[0].scatter(belief_true_projected[0], belief_true_projected[1], marker='.', c=rgb_colors, alpha=0.2, s=0.5)\n",
        "axes[0].axis('off')\n",
        "axes[0].set_title(\"Ground Truth Simplex\")\n",
        "\n",
        "# Plotting the predicted beliefs projected onto the simplex\n",
        "axes[1].scatter(belief_pred_projected[0], belief_pred_projected[1], marker='.', c=rgb_colors, alpha=0.3, s=0.01)\n",
        "axes[1].axis('off')\n",
        "axes[1].set_title(\"Residual Stream Simplex\")\n",
        "\n",
        "# Adjust layout for better spacing\n",
        "plt.tight_layout()\n",
        "\n",
        "# Display the figure\n",
        "plt.show()"
      ],
      "metadata": {
        "colab": {
          "base_uri": "https://localhost:8080/",
          "height": 308
        },
        "id": "QsNXkP8XdLs7",
        "outputId": "9262d014-95aa-442d-ac4b-4ba6d93caab5"
      },
      "execution_count": 299,
      "outputs": [
        {
          "output_type": "display_data",
          "data": {
            "text/plain": [
              "<Figure size 600x300 with 2 Axes>"
            ],
            "image/png": "[encoded data removed]"
          },
          "metadata": {}
        }
      ]
    },
    {
      "cell_type": "markdown",
      "source": [],
      "metadata": {
        "id": "Zya8Ym2ngaJR"
      }
    }
  ]
}