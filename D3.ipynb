{
  "nbformat": 4,
  "nbformat_minor": 0,
  "metadata": {
    "colab": {
      "provenance": []
    },
    "kernelspec": {
      "name": "python3",
      "display_name": "Python 3"
    },
    "language_info": {
      "name": "python"
    }
  },
  "cells": [
    {
      "cell_type": "code",
      "execution_count": 7,
      "metadata": {
        "colab": {
          "base_uri": "https://localhost:8080/"
        },
        "id": "G41BnP5b6aij",
        "outputId": "79891009-cceb-47d5-e57a-252822ddb4dc"
      },
      "outputs": [
        {
          "output_type": "stream",
          "name": "stdout",
          "text": [
            "Cloning into 'epsilon-transformers'...\n",
            "remote: Enumerating objects: 5666, done.\u001b[K\n",
            "remote: Counting objects: 100% (1049/1049), done.\u001b[K\n",
            "remote: Compressing objects: 100% (506/506), done.\u001b[K\n",
            "remote: Total 5666 (delta 554), reused 889 (delta 527), pack-reused 4617\u001b[K\n",
            "Receiving objects: 100% (5666/5666), 242.68 MiB | 14.68 MiB/s, done.\n",
            "Resolving deltas: 100% (3191/3191), done.\n",
            "/content/epsilon-transformers\n",
            "Obtaining file:///content/epsilon-transformers\n",
            "  Installing build dependencies ... \u001b[?25l\u001b[?25hdone\n",
            "  Checking if build backend supports build_editable ... \u001b[?25l\u001b[?25hdone\n",
            "  Getting requirements to build editable ... \u001b[?25l\u001b[?25hdone\n",
            "  Preparing editable metadata (pyproject.toml) ... \u001b[?25l\u001b[?25hdone\n",
            "Requirement already satisfied: torch in /usr/local/lib/python3.10/dist-packages (from epsilon_transformers==0.1) (2.3.0+cu121)\n",
            "Requirement already satisfied: numpy in /usr/local/lib/python3.10/dist-packages (from epsilon_transformers==0.1) (1.25.2)\n",
            "Requirement already satisfied: pandas in /usr/local/lib/python3.10/dist-packages (from epsilon_transformers==0.1) (2.0.3)\n",
            "Requirement already satisfied: seaborn in /usr/local/lib/python3.10/dist-packages (from epsilon_transformers==0.1) (0.13.1)\n",
            "Requirement already satisfied: matplotlib in /usr/local/lib/python3.10/dist-packages (from epsilon_transformers==0.1) (3.7.1)\n",
            "Collecting wandb (from epsilon_transformers==0.1)\n",
            "  Using cached wandb-0.17.0-py3-none-manylinux_2_5_x86_64.manylinux1_x86_64.manylinux_2_17_x86_64.manylinux2014_x86_64.whl (6.7 MB)\n",
            "Requirement already satisfied: scikit-learn in /usr/local/lib/python3.10/dist-packages (from epsilon_transformers==0.1) (1.2.2)\n",
            "Requirement already satisfied: plotly in /usr/local/lib/python3.10/dist-packages (from epsilon_transformers==0.1) (5.15.0)\n",
            "Collecting transformer-lens (from epsilon_transformers==0.1)\n",
            "  Using cached transformer_lens-2.0.0-py3-none-any.whl (144 kB)\n",
            "Requirement already satisfied: pytest in /usr/local/lib/python3.10/dist-packages (from epsilon_transformers==0.1) (7.4.4)\n",
            "Requirement already satisfied: PyDrive in /usr/local/lib/python3.10/dist-packages (from epsilon_transformers==0.1) (1.3.1)\n",
            "Collecting black (from epsilon_transformers==0.1)\n",
            "  Downloading black-24.4.2-cp310-cp310-manylinux_2_17_x86_64.manylinux2014_x86_64.whl (1.8 MB)\n",
            "\u001b[2K     \u001b[90m━━━━━━━━━━━━━━━━━━━━━━━━━━━━━━━━━━━━━━━━\u001b[0m \u001b[32m1.8/1.8 MB\u001b[0m \u001b[31m13.2 MB/s\u001b[0m eta \u001b[36m0:00:00\u001b[0m\n",
            "\u001b[?25hCollecting mypy (from epsilon_transformers==0.1)\n",
            "  Downloading mypy-1.10.0-cp310-cp310-manylinux_2_17_x86_64.manylinux2014_x86_64.whl (12.7 MB)\n",
            "\u001b[2K     \u001b[90m━━━━━━━━━━━━━━━━━━━━━━━━━━━━━━━━━━━━━━━━\u001b[0m \u001b[32m12.7/12.7 MB\u001b[0m \u001b[31m58.1 MB/s\u001b[0m eta \u001b[36m0:00:00\u001b[0m\n",
            "\u001b[?25hCollecting jaxtyping (from epsilon_transformers==0.1)\n",
            "  Using cached jaxtyping-0.2.29-py3-none-any.whl (41 kB)\n",
            "Collecting fire (from epsilon_transformers==0.1)\n",
            "  Downloading fire-0.6.0.tar.gz (88 kB)\n",
            "\u001b[2K     \u001b[90m━━━━━━━━━━━━━━━━━━━━━━━━━━━━━━━━━━━━━━━━\u001b[0m \u001b[32m88.4/88.4 kB\u001b[0m \u001b[31m11.4 MB/s\u001b[0m eta \u001b[36m0:00:00\u001b[0m\n",
            "\u001b[?25h  Preparing metadata (setup.py) ... \u001b[?25l\u001b[?25hdone\n",
            "Requirement already satisfied: pydantic in /usr/local/lib/python3.10/dist-packages (from epsilon_transformers==0.1) (2.7.1)\n",
            "Collecting python-dotenv (from epsilon_transformers==0.1)\n",
            "  Downloading python_dotenv-1.0.1-py3-none-any.whl (19 kB)\n",
            "Requirement already satisfied: tqdm in /usr/local/lib/python3.10/dist-packages (from epsilon_transformers==0.1) (4.66.4)\n",
            "Collecting boto3 (from epsilon_transformers==0.1)\n",
            "  Downloading boto3-1.34.117-py3-none-any.whl (139 kB)\n",
            "\u001b[2K     \u001b[90m━━━━━━━━━━━━━━━━━━━━━━━━━━━━━━━━━━━━━━━━\u001b[0m \u001b[32m139.3/139.3 kB\u001b[0m \u001b[31m10.3 MB/s\u001b[0m eta \u001b[36m0:00:00\u001b[0m\n",
            "\u001b[?25hRequirement already satisfied: click>=8.0.0 in /usr/local/lib/python3.10/dist-packages (from black->epsilon_transformers==0.1) (8.1.7)\n",
            "Collecting mypy-extensions>=0.4.3 (from black->epsilon_transformers==0.1)\n",
            "  Downloading mypy_extensions-1.0.0-py3-none-any.whl (4.7 kB)\n",
            "Requirement already satisfied: packaging>=22.0 in /usr/local/lib/python3.10/dist-packages (from black->epsilon_transformers==0.1) (24.0)\n",
            "Collecting pathspec>=0.9.0 (from black->epsilon_transformers==0.1)\n",
            "  Downloading pathspec-0.12.1-py3-none-any.whl (31 kB)\n",
            "Requirement already satisfied: platformdirs>=2 in /usr/local/lib/python3.10/dist-packages (from black->epsilon_transformers==0.1) (4.2.2)\n",
            "Requirement already satisfied: tomli>=1.1.0 in /usr/local/lib/python3.10/dist-packages (from black->epsilon_transformers==0.1) (2.0.1)\n",
            "Requirement already satisfied: typing-extensions>=4.0.1 in /usr/local/lib/python3.10/dist-packages (from black->epsilon_transformers==0.1) (4.11.0)\n",
            "Collecting botocore<1.35.0,>=1.34.117 (from boto3->epsilon_transformers==0.1)\n",
            "  Downloading botocore-1.34.117-py3-none-any.whl (12.3 MB)\n",
            "\u001b[2K     \u001b[90m━━━━━━━━━━━━━━━━━━━━━━━━━━━━━━━━━━━━━━━━\u001b[0m \u001b[32m12.3/12.3 MB\u001b[0m \u001b[31m55.5 MB/s\u001b[0m eta \u001b[36m0:00:00\u001b[0m\n",
            "\u001b[?25hCollecting jmespath<2.0.0,>=0.7.1 (from boto3->epsilon_transformers==0.1)\n",
            "  Downloading jmespath-1.0.1-py3-none-any.whl (20 kB)\n",
            "Collecting s3transfer<0.11.0,>=0.10.0 (from boto3->epsilon_transformers==0.1)\n",
            "  Downloading s3transfer-0.10.1-py3-none-any.whl (82 kB)\n",
            "\u001b[2K     \u001b[90m━━━━━━━━━━━━━━━━━━━━━━━━━━━━━━━━━━━━━━━━\u001b[0m \u001b[32m82.2/82.2 kB\u001b[0m \u001b[31m9.1 MB/s\u001b[0m eta \u001b[36m0:00:00\u001b[0m\n",
            "\u001b[?25hRequirement already satisfied: six in /usr/local/lib/python3.10/dist-packages (from fire->epsilon_transformers==0.1) (1.16.0)\n",
            "Requirement already satisfied: termcolor in /usr/local/lib/python3.10/dist-packages (from fire->epsilon_transformers==0.1) (2.4.0)\n",
            "Requirement already satisfied: typeguard==2.13.3 in /usr/local/lib/python3.10/dist-packages (from jaxtyping->epsilon_transformers==0.1) (2.13.3)\n",
            "Requirement already satisfied: contourpy>=1.0.1 in /usr/local/lib/python3.10/dist-packages (from matplotlib->epsilon_transformers==0.1) (1.2.1)\n",
            "Requirement already satisfied: cycler>=0.10 in /usr/local/lib/python3.10/dist-packages (from matplotlib->epsilon_transformers==0.1) (0.12.1)\n",
            "Requirement already satisfied: fonttools>=4.22.0 in /usr/local/lib/python3.10/dist-packages (from matplotlib->epsilon_transformers==0.1) (4.51.0)\n",
            "Requirement already satisfied: kiwisolver>=1.0.1 in /usr/local/lib/python3.10/dist-packages (from matplotlib->epsilon_transformers==0.1) (1.4.5)\n",
            "Requirement already satisfied: pillow>=6.2.0 in /usr/local/lib/python3.10/dist-packages (from matplotlib->epsilon_transformers==0.1) (9.4.0)\n",
            "Requirement already satisfied: pyparsing>=2.3.1 in /usr/local/lib/python3.10/dist-packages (from matplotlib->epsilon_transformers==0.1) (3.1.2)\n",
            "Requirement already satisfied: python-dateutil>=2.7 in /usr/local/lib/python3.10/dist-packages (from matplotlib->epsilon_transformers==0.1) (2.8.2)\n",
            "Requirement already satisfied: pytz>=2020.1 in /usr/local/lib/python3.10/dist-packages (from pandas->epsilon_transformers==0.1) (2023.4)\n",
            "Requirement already satisfied: tzdata>=2022.1 in /usr/local/lib/python3.10/dist-packages (from pandas->epsilon_transformers==0.1) (2024.1)\n",
            "Requirement already satisfied: tenacity>=6.2.0 in /usr/local/lib/python3.10/dist-packages (from plotly->epsilon_transformers==0.1) (8.3.0)\n",
            "Requirement already satisfied: annotated-types>=0.4.0 in /usr/local/lib/python3.10/dist-packages (from pydantic->epsilon_transformers==0.1) (0.7.0)\n",
            "Requirement already satisfied: pydantic-core==2.18.2 in /usr/local/lib/python3.10/dist-packages (from pydantic->epsilon_transformers==0.1) (2.18.2)\n",
            "Requirement already satisfied: google-api-python-client>=1.2 in /usr/local/lib/python3.10/dist-packages (from PyDrive->epsilon_transformers==0.1) (2.84.0)\n",
            "Requirement already satisfied: oauth2client>=4.0.0 in /usr/local/lib/python3.10/dist-packages (from PyDrive->epsilon_transformers==0.1) (4.1.3)\n",
            "Requirement already satisfied: PyYAML>=3.0 in /usr/local/lib/python3.10/dist-packages (from PyDrive->epsilon_transformers==0.1) (6.0.1)\n",
            "Requirement already satisfied: iniconfig in /usr/local/lib/python3.10/dist-packages (from pytest->epsilon_transformers==0.1) (2.0.0)\n",
            "Requirement already satisfied: pluggy<2.0,>=0.12 in /usr/local/lib/python3.10/dist-packages (from pytest->epsilon_transformers==0.1) (1.5.0)\n",
            "Requirement already satisfied: exceptiongroup>=1.0.0rc8 in /usr/local/lib/python3.10/dist-packages (from pytest->epsilon_transformers==0.1) (1.2.1)\n",
            "Requirement already satisfied: scipy>=1.3.2 in /usr/local/lib/python3.10/dist-packages (from scikit-learn->epsilon_transformers==0.1) (1.11.4)\n",
            "Requirement already satisfied: joblib>=1.1.1 in /usr/local/lib/python3.10/dist-packages (from scikit-learn->epsilon_transformers==0.1) (1.4.2)\n",
            "Requirement already satisfied: threadpoolctl>=2.0.0 in /usr/local/lib/python3.10/dist-packages (from scikit-learn->epsilon_transformers==0.1) (3.5.0)\n",
            "Requirement already satisfied: filelock in /usr/local/lib/python3.10/dist-packages (from torch->epsilon_transformers==0.1) (3.14.0)\n",
            "Requirement already satisfied: sympy in /usr/local/lib/python3.10/dist-packages (from torch->epsilon_transformers==0.1) (1.12)\n",
            "Requirement already satisfied: networkx in /usr/local/lib/python3.10/dist-packages (from torch->epsilon_transformers==0.1) (3.3)\n",
            "Requirement already satisfied: jinja2 in /usr/local/lib/python3.10/dist-packages (from torch->epsilon_transformers==0.1) (3.1.4)\n",
            "Requirement already satisfied: fsspec in /usr/local/lib/python3.10/dist-packages (from torch->epsilon_transformers==0.1) (2023.6.0)\n",
            "Requirement already satisfied: nvidia-cuda-nvrtc-cu12==12.1.105 in /usr/local/lib/python3.10/dist-packages (from torch->epsilon_transformers==0.1) (12.1.105)\n",
            "Requirement already satisfied: nvidia-cuda-runtime-cu12==12.1.105 in /usr/local/lib/python3.10/dist-packages (from torch->epsilon_transformers==0.1) (12.1.105)\n",
            "Requirement already satisfied: nvidia-cuda-cupti-cu12==12.1.105 in /usr/local/lib/python3.10/dist-packages (from torch->epsilon_transformers==0.1) (12.1.105)\n",
            "Collecting nvidia-cudnn-cu12==8.9.2.26 (from torch->epsilon_transformers==0.1)\n",
            "  Using cached nvidia_cudnn_cu12-8.9.2.26-py3-none-manylinux1_x86_64.whl (731.7 MB)\n",
            "Collecting nvidia-cublas-cu12==12.1.3.1 (from torch->epsilon_transformers==0.1)\n",
            "  Using cached nvidia_cublas_cu12-12.1.3.1-py3-none-manylinux1_x86_64.whl (410.6 MB)\n",
            "Requirement already satisfied: nvidia-cufft-cu12==11.0.2.54 in /usr/local/lib/python3.10/dist-packages (from torch->epsilon_transformers==0.1) (11.0.2.54)\n",
            "Requirement already satisfied: nvidia-curand-cu12==10.3.2.106 in /usr/local/lib/python3.10/dist-packages (from torch->epsilon_transformers==0.1) (10.3.2.106)\n",
            "Collecting nvidia-cusolver-cu12==11.4.5.107 (from torch->epsilon_transformers==0.1)\n",
            "  Using cached nvidia_cusolver_cu12-11.4.5.107-py3-none-manylinux1_x86_64.whl (124.2 MB)\n",
            "Collecting nvidia-cusparse-cu12==12.1.0.106 (from torch->epsilon_transformers==0.1)\n",
            "  Using cached nvidia_cusparse_cu12-12.1.0.106-py3-none-manylinux1_x86_64.whl (196.0 MB)\n",
            "Requirement already satisfied: nvidia-nccl-cu12==2.20.5 in /usr/local/lib/python3.10/dist-packages (from torch->epsilon_transformers==0.1) (2.20.5)\n",
            "Requirement already satisfied: nvidia-nvtx-cu12==12.1.105 in /usr/local/lib/python3.10/dist-packages (from torch->epsilon_transformers==0.1) (12.1.105)\n",
            "Requirement already satisfied: triton==2.3.0 in /usr/local/lib/python3.10/dist-packages (from torch->epsilon_transformers==0.1) (2.3.0)\n",
            "Requirement already satisfied: nvidia-nvjitlink-cu12 in /usr/local/lib/python3.10/dist-packages (from nvidia-cusolver-cu12==11.4.5.107->torch->epsilon_transformers==0.1) (12.5.40)\n",
            "Collecting accelerate>=0.23.0 (from transformer-lens->epsilon_transformers==0.1)\n",
            "  Using cached accelerate-0.30.1-py3-none-any.whl (302 kB)\n",
            "Collecting beartype<0.15.0,>=0.14.1 (from transformer-lens->epsilon_transformers==0.1)\n",
            "  Using cached beartype-0.14.1-py3-none-any.whl (739 kB)\n",
            "Requirement already satisfied: better-abc<0.0.4,>=0.0.3 in /usr/local/lib/python3.10/dist-packages (from transformer-lens->epsilon_transformers==0.1) (0.0.3)\n",
            "Collecting datasets>=2.7.1 (from transformer-lens->epsilon_transformers==0.1)\n",
            "  Using cached datasets-2.19.1-py3-none-any.whl (542 kB)\n",
            "Collecting einops>=0.6.0 (from transformer-lens->epsilon_transformers==0.1)\n",
            "  Using cached einops-0.8.0-py3-none-any.whl (43 kB)\n",
            "Collecting fancy-einsum>=0.0.3 (from transformer-lens->epsilon_transformers==0.1)\n",
            "  Using cached fancy_einsum-0.0.3-py3-none-any.whl (6.2 kB)\n",
            "Requirement already satisfied: rich>=12.6.0 in /usr/local/lib/python3.10/dist-packages (from transformer-lens->epsilon_transformers==0.1) (13.7.1)\n",
            "Requirement already satisfied: sentencepiece in /usr/local/lib/python3.10/dist-packages (from transformer-lens->epsilon_transformers==0.1) (0.1.99)\n",
            "Requirement already satisfied: transformers>=4.37.2 in /usr/local/lib/python3.10/dist-packages (from transformer-lens->epsilon_transformers==0.1) (4.41.1)\n",
            "Collecting docker-pycreds>=0.4.0 (from wandb->epsilon_transformers==0.1)\n",
            "  Using cached docker_pycreds-0.4.0-py2.py3-none-any.whl (9.0 kB)\n",
            "Collecting gitpython!=3.1.29,>=1.0.0 (from wandb->epsilon_transformers==0.1)\n",
            "  Using cached GitPython-3.1.43-py3-none-any.whl (207 kB)\n",
            "Requirement already satisfied: protobuf!=4.21.0,<5,>=3.19.0 in /usr/local/lib/python3.10/dist-packages (from wandb->epsilon_transformers==0.1) (3.20.3)\n",
            "Requirement already satisfied: psutil>=5.0.0 in /usr/local/lib/python3.10/dist-packages (from wandb->epsilon_transformers==0.1) (5.9.5)\n",
            "Requirement already satisfied: requests<3,>=2.0.0 in /usr/local/lib/python3.10/dist-packages (from wandb->epsilon_transformers==0.1) (2.31.0)\n",
            "Requirement already satisfied: sentry-sdk>=1.0.0 in /usr/local/lib/python3.10/dist-packages (from wandb->epsilon_transformers==0.1) (2.3.1)\n",
            "Requirement already satisfied: setproctitle in /usr/local/lib/python3.10/dist-packages (from wandb->epsilon_transformers==0.1) (1.3.3)\n",
            "Requirement already satisfied: setuptools in /usr/local/lib/python3.10/dist-packages (from wandb->epsilon_transformers==0.1) (67.7.2)\n",
            "Requirement already satisfied: huggingface-hub in /usr/local/lib/python3.10/dist-packages (from accelerate>=0.23.0->transformer-lens->epsilon_transformers==0.1) (0.23.1)\n",
            "Requirement already satisfied: safetensors>=0.3.1 in /usr/local/lib/python3.10/dist-packages (from accelerate>=0.23.0->transformer-lens->epsilon_transformers==0.1) (0.4.3)\n",
            "Requirement already satisfied: urllib3!=2.2.0,<3,>=1.25.4 in /usr/local/lib/python3.10/dist-packages (from botocore<1.35.0,>=1.34.117->boto3->epsilon_transformers==0.1) (2.0.7)\n",
            "Requirement already satisfied: pyarrow>=12.0.0 in /usr/local/lib/python3.10/dist-packages (from datasets>=2.7.1->transformer-lens->epsilon_transformers==0.1) (14.0.2)\n",
            "Requirement already satisfied: pyarrow-hotfix in /usr/local/lib/python3.10/dist-packages (from datasets>=2.7.1->transformer-lens->epsilon_transformers==0.1) (0.6)\n",
            "Collecting dill<0.3.9,>=0.3.0 (from datasets>=2.7.1->transformer-lens->epsilon_transformers==0.1)\n",
            "  Using cached dill-0.3.8-py3-none-any.whl (116 kB)\n",
            "Requirement already satisfied: xxhash in /usr/local/lib/python3.10/dist-packages (from datasets>=2.7.1->transformer-lens->epsilon_transformers==0.1) (3.4.1)\n",
            "Collecting multiprocess (from datasets>=2.7.1->transformer-lens->epsilon_transformers==0.1)\n",
            "  Using cached multiprocess-0.70.16-py310-none-any.whl (134 kB)\n",
            "Requirement already satisfied: aiohttp in /usr/local/lib/python3.10/dist-packages (from datasets>=2.7.1->transformer-lens->epsilon_transformers==0.1) (3.9.5)\n",
            "Collecting gitdb<5,>=4.0.1 (from gitpython!=3.1.29,>=1.0.0->wandb->epsilon_transformers==0.1)\n",
            "  Using cached gitdb-4.0.11-py3-none-any.whl (62 kB)\n",
            "Requirement already satisfied: httplib2<1dev,>=0.15.0 in /usr/local/lib/python3.10/dist-packages (from google-api-python-client>=1.2->PyDrive->epsilon_transformers==0.1) (0.22.0)\n",
            "Requirement already satisfied: google-auth<3.0.0dev,>=1.19.0 in /usr/local/lib/python3.10/dist-packages (from google-api-python-client>=1.2->PyDrive->epsilon_transformers==0.1) (2.27.0)\n",
            "Requirement already satisfied: google-auth-httplib2>=0.1.0 in /usr/local/lib/python3.10/dist-packages (from google-api-python-client>=1.2->PyDrive->epsilon_transformers==0.1) (0.1.1)\n",
            "Requirement already satisfied: google-api-core!=2.0.*,!=2.1.*,!=2.2.*,!=2.3.0,<3.0.0dev,>=1.31.5 in /usr/local/lib/python3.10/dist-packages (from google-api-python-client>=1.2->PyDrive->epsilon_transformers==0.1) (2.11.1)\n",
            "Requirement already satisfied: uritemplate<5,>=3.0.1 in /usr/local/lib/python3.10/dist-packages (from google-api-python-client>=1.2->PyDrive->epsilon_transformers==0.1) (4.1.1)\n",
            "Requirement already satisfied: pyasn1>=0.1.7 in /usr/local/lib/python3.10/dist-packages (from oauth2client>=4.0.0->PyDrive->epsilon_transformers==0.1) (0.6.0)\n",
            "Requirement already satisfied: pyasn1-modules>=0.0.5 in /usr/local/lib/python3.10/dist-packages (from oauth2client>=4.0.0->PyDrive->epsilon_transformers==0.1) (0.4.0)\n",
            "Requirement already satisfied: rsa>=3.1.4 in /usr/local/lib/python3.10/dist-packages (from oauth2client>=4.0.0->PyDrive->epsilon_transformers==0.1) (4.9)\n",
            "Requirement already satisfied: charset-normalizer<4,>=2 in /usr/local/lib/python3.10/dist-packages (from requests<3,>=2.0.0->wandb->epsilon_transformers==0.1) (3.3.2)\n",
            "Requirement already satisfied: idna<4,>=2.5 in /usr/local/lib/python3.10/dist-packages (from requests<3,>=2.0.0->wandb->epsilon_transformers==0.1) (3.7)\n",
            "Requirement already satisfied: certifi>=2017.4.17 in /usr/local/lib/python3.10/dist-packages (from requests<3,>=2.0.0->wandb->epsilon_transformers==0.1) (2024.2.2)\n",
            "Requirement already satisfied: markdown-it-py>=2.2.0 in /usr/local/lib/python3.10/dist-packages (from rich>=12.6.0->transformer-lens->epsilon_transformers==0.1) (3.0.0)\n",
            "Requirement already satisfied: pygments<3.0.0,>=2.13.0 in /usr/local/lib/python3.10/dist-packages (from rich>=12.6.0->transformer-lens->epsilon_transformers==0.1) (2.16.1)\n",
            "Requirement already satisfied: regex!=2019.12.17 in /usr/local/lib/python3.10/dist-packages (from transformers>=4.37.2->transformer-lens->epsilon_transformers==0.1) (2024.5.15)\n",
            "Requirement already satisfied: tokenizers<0.20,>=0.19 in /usr/local/lib/python3.10/dist-packages (from transformers>=4.37.2->transformer-lens->epsilon_transformers==0.1) (0.19.1)\n",
            "Requirement already satisfied: MarkupSafe>=2.0 in /usr/local/lib/python3.10/dist-packages (from jinja2->torch->epsilon_transformers==0.1) (2.1.5)\n",
            "Requirement already satisfied: mpmath>=0.19 in /usr/local/lib/python3.10/dist-packages (from sympy->torch->epsilon_transformers==0.1) (1.3.0)\n",
            "Requirement already satisfied: aiosignal>=1.1.2 in /usr/local/lib/python3.10/dist-packages (from aiohttp->datasets>=2.7.1->transformer-lens->epsilon_transformers==0.1) (1.3.1)\n",
            "Requirement already satisfied: attrs>=17.3.0 in /usr/local/lib/python3.10/dist-packages (from aiohttp->datasets>=2.7.1->transformer-lens->epsilon_transformers==0.1) (23.2.0)\n",
            "Requirement already satisfied: frozenlist>=1.1.1 in /usr/local/lib/python3.10/dist-packages (from aiohttp->datasets>=2.7.1->transformer-lens->epsilon_transformers==0.1) (1.4.1)\n",
            "Requirement already satisfied: multidict<7.0,>=4.5 in /usr/local/lib/python3.10/dist-packages (from aiohttp->datasets>=2.7.1->transformer-lens->epsilon_transformers==0.1) (6.0.5)\n",
            "Requirement already satisfied: yarl<2.0,>=1.0 in /usr/local/lib/python3.10/dist-packages (from aiohttp->datasets>=2.7.1->transformer-lens->epsilon_transformers==0.1) (1.9.4)\n",
            "Requirement already satisfied: async-timeout<5.0,>=4.0 in /usr/local/lib/python3.10/dist-packages (from aiohttp->datasets>=2.7.1->transformer-lens->epsilon_transformers==0.1) (4.0.3)\n",
            "Requirement already satisfied: smmap<6,>=3.0.1 in /usr/local/lib/python3.10/dist-packages (from gitdb<5,>=4.0.1->gitpython!=3.1.29,>=1.0.0->wandb->epsilon_transformers==0.1) (5.0.1)\n",
            "Requirement already satisfied: googleapis-common-protos<2.0.dev0,>=1.56.2 in /usr/local/lib/python3.10/dist-packages (from google-api-core!=2.0.*,!=2.1.*,!=2.2.*,!=2.3.0,<3.0.0dev,>=1.31.5->google-api-python-client>=1.2->PyDrive->epsilon_transformers==0.1) (1.63.0)\n",
            "Requirement already satisfied: cachetools<6.0,>=2.0.0 in /usr/local/lib/python3.10/dist-packages (from google-auth<3.0.0dev,>=1.19.0->google-api-python-client>=1.2->PyDrive->epsilon_transformers==0.1) (5.3.3)\n",
            "Requirement already satisfied: mdurl~=0.1 in /usr/local/lib/python3.10/dist-packages (from markdown-it-py>=2.2.0->rich>=12.6.0->transformer-lens->epsilon_transformers==0.1) (0.1.2)\n",
            "Building wheels for collected packages: epsilon_transformers, fire\n",
            "  Building editable for epsilon_transformers (pyproject.toml) ... \u001b[?25l\u001b[?25hdone\n",
            "  Created wheel for epsilon_transformers: filename=epsilon_transformers-0.1-0.editable-py3-none-any.whl size=2941 sha256=abeaf5a1943f6b41682b840f81d82c8041adde3293901c7a5444bc0c65359cd5\n",
            "  Stored in directory: /tmp/pip-ephem-wheel-cache-hkkm_4ln/wheels/b3/d7/07/1df0a2f3e559b1b2381019428554e9038d28af7b8e5af5a83f\n",
            "  Building wheel for fire (setup.py) ... \u001b[?25l\u001b[?25hdone\n",
            "  Created wheel for fire: filename=fire-0.6.0-py2.py3-none-any.whl size=117029 sha256=60afaf872505e4602e64ccb99c59beae198de4c40b822d4fbd7eb4cdcf7f884d\n",
            "  Stored in directory: /root/.cache/pip/wheels/d6/6d/5d/5b73fa0f46d01a793713f8859201361e9e581ced8c75e5c6a3\n",
            "Successfully built epsilon_transformers fire\n",
            "Installing collected packages: python-dotenv, pathspec, nvidia-cusparse-cu12, nvidia-cublas-cu12, mypy-extensions, jmespath, jaxtyping, gitdb, fire, fancy-einsum, einops, docker-pycreds, dill, beartype, nvidia-cusolver-cu12, nvidia-cudnn-cu12, mypy, multiprocess, gitpython, botocore, black, wandb, s3transfer, datasets, boto3, accelerate, transformer-lens, epsilon_transformers\n",
            "Successfully installed accelerate-0.30.1 beartype-0.14.1 black-24.4.2 boto3-1.34.117 botocore-1.34.117 datasets-2.19.1 dill-0.3.8 docker-pycreds-0.4.0 einops-0.8.0 epsilon_transformers-0.1 fancy-einsum-0.0.3 fire-0.6.0 gitdb-4.0.11 gitpython-3.1.43 jaxtyping-0.2.29 jmespath-1.0.1 multiprocess-0.70.16 mypy-1.10.0 mypy-extensions-1.0.0 nvidia-cublas-cu12-12.1.3.1 nvidia-cudnn-cu12-8.9.2.26 nvidia-cusolver-cu12-11.4.5.107 nvidia-cusparse-cu12-12.1.0.106 pathspec-0.12.1 python-dotenv-1.0.1 s3transfer-0.10.1 transformer-lens-2.0.0 wandb-0.17.0\n"
          ]
        }
      ],
      "source": [
        "# Step 1: Clone the specific branch hackathon-prep\n",
        "!git clone --branch hackathon-prep https://github.com/adamimos/epsilon-transformers.git\n",
        "%cd epsilon-transformers\n",
        "\n",
        "# Step 2: Install the necessary dependencies\n",
        "!pip install -e .\n",
        "\n",
        "# Step 3: Install gdown if not already installed\n",
        "#!pip install gdown\n",
        "\n",
        "# Step 4: Download the RRXOR experiment data\n",
        "#!gdown \"https://drive.google.com/uc?id=1PYMcdvvJ_FW31rQDBmnNKz9LOyFEcfqQ\" -O vfs4q106-rrxor.zip\n",
        "\n",
        "# Step 5: Unzip the data in the correct location\n",
        "#!unzip vfs4q106-rrxor.zip -d examples/models/\n"
      ]
    },
    {
      "cell_type": "code",
      "source": [
        "from epsilon_transformers.process.processes import ZeroOneR, GoldenMean, Mess3\n",
        "\n",
        "proc1 = ZeroOneR()\n",
        "proc2 = GoldenMean(1,1)\n",
        "\n",
        "print(proc1.transition_matrix)\n",
        "print(proc2.transition_matrix)\n",
        "print(proc1.vocab_len)\n",
        "print(type(proc1.transition_matrix))\n"
      ],
      "metadata": {
        "colab": {
          "base_uri": "https://localhost:8080/"
        },
        "id": "L5De9TYs6fV0",
        "outputId": "ac738735-1554-4bff-a6e9-d8c42d3e56a1"
      },
      "execution_count": 8,
      "outputs": [
        {
          "output_type": "stream",
          "name": "stdout",
          "text": [
            "[[[0.  1.  0. ]\n",
            "  [0.  0.  0. ]\n",
            "  [0.5 0.  0. ]]\n",
            "\n",
            " [[0.  0.  0. ]\n",
            "  [0.  0.  1. ]\n",
            "  [0.5 0.  0. ]]]\n",
            "[[[0.5 0. ]\n",
            "  [1.  0. ]]\n",
            "\n",
            " [[0.  0.5]\n",
            "  [0.  0. ]]]\n",
            "2\n",
            "<class 'numpy.ndarray'>\n"
          ]
        }
      ]
    },
    {
      "cell_type": "code",
      "source": [
        "from epsilon_transformers.process.Process import Process\n",
        "import numpy as np\n",
        "\n",
        "class GluedProcess(Process):\n",
        "    def __init__(self, proc1, proc2, join_on=dict(), weights=(0.5,0.5)):\n",
        "        # join_on is a dictionary that maps vocubulary from Process 2 to Process 1\n",
        "        # So join_on = {0: 1} means that emitting a \"0\" in Process 2 looks the same\n",
        "        # as emitting a \"1\" in Process 1, but all other vocubulary of Process 1\n",
        "        # is discernable.\n",
        "\n",
        "        self.name = proc1.name + \"+\" + proc2.name\n",
        "        self.proc1 = proc1\n",
        "        self.proc2 = proc2\n",
        "        self.weights = weights\n",
        "        self.join_on = join_on\n",
        "        super().__init__()\n",
        "\n",
        "    def _create_hmm(self):\n",
        "        n_states = len(self.proc1.state_names_dict)\n",
        "        state_names = self.proc1.state_names_dict.copy()\n",
        "        for key, val in self.proc2.state_names_dict.items():\n",
        "            # choose a unique name for merged state in case it is already occupied\n",
        "            while key in state_names:\n",
        "                key += \"_\"\n",
        "            state_names[key] = n_states\n",
        "            n_states += 1\n",
        "\n",
        "        # For a combination in which the vocabulary is disjoint, the vocab\n",
        "        # size is the sum, else the larger of the two\n",
        "        vocab_len = self.proc1.vocab_len + self.proc2.vocab_len - len(self.join_on)\n",
        "        T = np.zeros((vocab_len, n_states, n_states))\n",
        "\n",
        "        # Copying over values from Proc1\n",
        "        shape1 = self.proc1.transition_matrix.shape\n",
        "        print(shape1)\n",
        "        T[:shape1[0], :shape1[1], :shape1[2]] = self.proc1.transition_matrix\n",
        "\n",
        "        # Copying from Proc2\n",
        "        new_v = 0  # This counts the number of new vocabulary tokens\n",
        "        for v in range(self.proc2.vocab_len):\n",
        "            if v in self.join_on:\n",
        "                T[self.join_on[v], shape1[1]:, shape1[2]:] = self.proc2.transition_matrix[v, :, :]\n",
        "            else:\n",
        "                T[shape1[0] + new_v, shape1[1]:, shape1[2]:] = self.proc2.transition_matrix[v, :, :]\n",
        "                new_v += 1\n",
        "\n",
        "        print(T)\n",
        "        return T, state_names\n",
        "\n",
        "    @property\n",
        "    def steady_state_vector(self):\n",
        "        steady_state_vector = np.concatenate(\n",
        "            (self.proc1.steady_state_vector * self.weights[0], self.proc2.steady_state_vector * self.weights[1])\n",
        "        )\n",
        "        # steady_state_vector = np.ones((self.num_states))\n",
        "\n",
        "        out = steady_state_vector / steady_state_vector.sum()\n",
        "        assert out.ndim == 1\n",
        "        assert len(out) == self.num_states\n",
        "        return out\n",
        "\n",
        "class D3(Process):\n",
        "    def __init__(self, a, b):  # modify the fucntion name of init as __init__\n",
        "        self.name = \"d3\"\n",
        "        self.a = a\n",
        "        self.b = b\n",
        "        super().__init__()\n",
        "\n",
        "    def _create_hmm(self):\n",
        "        T = np.zeros((3, 1, 1))\n",
        "        state_names = {\"0\": 0}\n",
        "        T[0, state_names[\"0\"], state_names[\"0\"]] = self.a\n",
        "        T[1, state_names[\"0\"], state_names[\"0\"]] = self.b\n",
        "        T[2, state_names[\"0\"], state_names[\"0\"]] = 1 - self.a - self.b\n",
        "\n",
        "        return T, state_names\n",
        "\n",
        "from epsilon_transformers.visualization.plots import _project_to_simplex\n",
        "import matplotlib.pyplot as plt\n",
        "\n",
        "proc1 = D3(0.5, 0.25)\n",
        "proc2 = D3(0.25, 0.5)\n",
        "proc3 = D3(0.25, 0.25)\n",
        "process = GluedProcess(GluedProcess(proc1, proc2, join_on={0:0, 1:1, 2:2}), proc3, join_on={0:0, 1:1, 2:2}, weights=(2, 1))\n",
        "\n",
        "# Mixed state tree generation and plotting\n",
        "mixed_state_tree = process.derive_mixed_state_presentation(depth=8)\n",
        "MSP_transition_matrix = mixed_state_tree.build_msp_transition_matrix()\n",
        "\n",
        "tree_paths, tree_beliefs = mixed_state_tree.paths_and_belief_states\n",
        "\n",
        "msp_beliefs = [tuple(round(b, 5) for b in belief) for belief in tree_beliefs]\n",
        "msp_belief_index = {b: i for i, b in enumerate(set(msp_beliefs))}\n",
        "ground_truth_simplex = _project_to_simplex(np.array(list(msp_belief_index.keys())))\n",
        "plt.figure(figsize=(4.5, 4))\n",
        "plt.scatter(ground_truth_simplex[0], ground_truth_simplex[1], c=[k for k in list(msp_belief_index.keys())], alpha=.75, s=5)\n",
        "plt.title(\"Ground Truth Simplex\")\n",
        "plt.gca().set_axis_off()\n",
        "plt.show()\n",
        "\n"
      ],
      "metadata": {
        "id": "CIaVSyo3puiV",
        "colab": {
          "base_uri": "https://localhost:8080/",
          "height": 732
        },
        "outputId": "41c183fc-a4a9-454c-803c-444d5bb1fb1d"
      },
      "execution_count": 9,
      "outputs": [
        {
          "output_type": "stream",
          "name": "stdout",
          "text": [
            "(3, 1, 1)\n",
            "[[[0.5  0.  ]\n",
            "  [0.   0.25]]\n",
            "\n",
            " [[0.25 0.  ]\n",
            "  [0.   0.5 ]]\n",
            "\n",
            " [[0.25 0.  ]\n",
            "  [0.   0.25]]]\n",
            "(3, 2, 2)\n",
            "[[[0.5  0.   0.  ]\n",
            "  [0.   0.25 0.  ]\n",
            "  [0.   0.   0.25]]\n",
            "\n",
            " [[0.25 0.   0.  ]\n",
            "  [0.   0.5  0.  ]\n",
            "  [0.   0.   0.25]]\n",
            "\n",
            " [[0.25 0.   0.  ]\n",
            "  [0.   0.25 0.  ]\n",
            "  [0.   0.   0.5 ]]]\n"
          ]
        },
        {
          "output_type": "display_data",
          "data": {
            "text/plain": [
              "<Figure size 450x400 with 1 Axes>"
            ],
            "image/png": "[encoded data removed]"
          },
          "metadata": {}
        }
      ]
    },
    {
      "cell_type": "markdown",
      "source": [],
      "metadata": {
        "id": "l3DTtpRJ39Up"
      }
    },
    {
      "cell_type": "markdown",
      "source": [
        "Transformer training\n"
      ],
      "metadata": {
        "id": "0j8974VJ6bwn"
      }
    },
    {
      "cell_type": "code",
      "source": [
        "from epsilon_transformers.persistence import S3Persister, HackyPersister\n",
        "from epsilon_transformers.training.configs.model_configs import RawModelConfig\n",
        "from epsilon_transformers.process.processes import RRXOR, Mess3\n",
        "from epsilon_transformers.analysis.activation_analysis import get_beliefs_for_transformer_inputs\n",
        "from epsilon_transformers.visualization.plots import _project_to_simplex\n",
        "import seaborn as sns\n",
        "\n",
        "import numpy as np\n",
        "import torch\n",
        "import plotly.express as px\n",
        "import matplotlib.pyplot as plt\n",
        "import pathlib\n",
        "\n",
        "from sklearn.linear_model import LinearRegression\n",
        "from sklearn.decomposition import PCA"
      ],
      "metadata": {
        "id": "Qj86qldcENSL"
      },
      "execution_count": 10,
      "outputs": []
    },
    {
      "cell_type": "code",
      "source": [
        "import torch\n",
        "import transformer_lens\n",
        "import transformer_lens.utils as utils\n",
        "from transformer_lens.hook_points import (\n",
        "    HookedRootModule,\n",
        "    HookPoint,\n",
        ")  # Hooking utilities\n",
        "from transformer_lens import HookedTransformer, HookedTransformerConfig, FactoredMatrix, ActivationCache\n",
        "\n",
        "\n",
        "device = \"cuda\" if torch.cuda.is_available() else \"cpu\""
      ],
      "metadata": {
        "id": "eBoj5FRhEB4O"
      },
      "execution_count": 11,
      "outputs": []
    },
    {
      "cell_type": "code",
      "source": [
        "def get_transformer_data_from_process(process, n_ctx):\n",
        "    mixed_state_tree = process.derive_mixed_state_presentation(depth=n_ctx+1)\n",
        "    tree_paths, tree_beliefs = mixed_state_tree.paths_and_belief_states\n",
        "    transformer_data = [x for x in tree_paths if len(x) == n_ctx+1]\n",
        "    transformer_data = torch.tensor(transformer_data)\n",
        "    transformer_input = transformer_data[:, :-1]\n",
        "    transformer_target = transformer_data[:, 1:]\n",
        "    return transformer_input, transformer_target\n",
        "\n",
        "def get_lower_bound_for_cross_entropy(process, n_ctx):\n",
        "    mixed_state_tree = process.derive_mixed_state_presentation(depth=n_ctx+1)\n",
        "    myopic_entropy = mixed_state_tree.myopic_entropy\n",
        "    return myopic_entropy[1:]"
      ],
      "metadata": {
        "id": "z83TDfiCEVX7"
      },
      "execution_count": 12,
      "outputs": []
    },
    {
      "cell_type": "code",
      "source": [
        "cfg = HookedTransformerConfig(\n",
        "    n_layers = 1,\n",
        "    n_heads = 3,\n",
        "    d_model = 9,\n",
        "    d_head = 3,\n",
        "    d_mlp = 9,\n",
        "    act_fn = \"relu\",\n",
        "    normalization_type=None,\n",
        "    d_vocab=3,\n",
        "    n_ctx=8,\n",
        "    init_weights=True,\n",
        "    device=device,\n",
        "    seed = 999,\n",
        ")"
      ],
      "metadata": {
        "id": "Skv_LKl8Ekw0"
      },
      "execution_count": 13,
      "outputs": []
    },
    {
      "cell_type": "code",
      "source": [
        "import torch\n",
        "from torch.utils.data import IterableDataset, DataLoader\n",
        "from typing import List, Tuple, Iterable\n",
        "\n",
        "\n",
        "class ProcessDataset(IterableDataset):\n",
        "\n",
        "    def __init__(self, process, sequence_length, num_samples, fixed=False):\n",
        "        super().__init__()\n",
        "        self.process = process\n",
        "        self.sequence_length = sequence_length\n",
        "        self.num_samples = num_samples\n",
        "        self.fixed = fixed\n",
        "        if self.fixed:\n",
        "          self.samples = list(self._get_samples())\n",
        "        else:\n",
        "          self.samples = None\n",
        "\n",
        "    def _get_samples(self):\n",
        "      return process.yield_emissions(\n",
        "            sequence_len=self.num_samples * (self.sequence_length + 1)\n",
        "        )\n",
        "\n",
        "    def __len__(self):\n",
        "        return self.num_samples\n",
        "\n",
        "    def __iter__(self) -> Iterable[Tuple[List[int]]]:\n",
        "        samples = self._get_samples() if self.samples is None else iter(self.samples)\n",
        "        for _ in range(self.num_samples):\n",
        "            process_history = [\n",
        "                next(samples) for _ in range(self.sequence_length + 1)\n",
        "            ]\n",
        "            yield (process_history[:-1], process_history[1:])\n",
        "\n",
        "\n",
        "def process_dataset_collate_fn(batch: List[Tuple[List[int]]]):\n",
        "    data = [x[0] for x in batch]\n",
        "    labels = [x[1] for x in batch]\n",
        "    return torch.tensor(data, dtype=torch.long), torch.tensor(labels, dtype=torch.long)\n",
        "\n",
        "\n",
        "train_dataset = ProcessDataset(process, sequence_length=cfg.n_ctx, num_samples=10000,\n",
        "                                     fixed=False)\n",
        "train_dataloader = DataLoader(train_dataset, batch_size=100, collate_fn=process_dataset_collate_fn)\n",
        "val_dataset = ProcessDataset(process, sequence_length=cfg.n_ctx, num_samples=1000,\n",
        "                                   fixed=True)\n",
        "val_dataloader = DataLoader(val_dataset, batch_size=100, collate_fn=process_dataset_collate_fn)"
      ],
      "metadata": {
        "id": "xuMTautumzgr"
      },
      "execution_count": 14,
      "outputs": []
    },
    {
      "cell_type": "code",
      "source": [
        "proc1 = D3(0.5,0.25)\n",
        "proc2 = D3(0.25,0.5)\n",
        "proc3 = D3(0.25,0.25)\n",
        "process = GluedProcess(GluedProcess(proc1, proc2, join_on={0:0,1:1,2:2}), proc3, join_on={0:0,1:1,2:2},weights=(2,1))\n",
        "transformer_inputs, transformer_targets = get_transformer_data_from_process(process, cfg.n_ctx)\n",
        "minimum_loss = np.mean(get_lower_bound_for_cross_entropy(process, cfg.n_ctx))\n",
        "print(f\"Minimum Loss: {minimum_loss}\")\n",
        "transformer_inputs = transformer_inputs.to(device)\n",
        "transformer_targets = transformer_targets.to(device)"
      ],
      "metadata": {
        "colab": {
          "base_uri": "https://localhost:8080/"
        },
        "id": "OYnAUPesEstY",
        "outputId": "78d01ddd-f225-4876-b22f-37cc04ac8865"
      },
      "execution_count": 16,
      "outputs": [
        {
          "output_type": "stream",
          "name": "stdout",
          "text": [
            "(3, 1, 1)\n",
            "[[[0.5  0.  ]\n",
            "  [0.   0.25]]\n",
            "\n",
            " [[0.25 0.  ]\n",
            "  [0.   0.5 ]]\n",
            "\n",
            " [[0.25 0.  ]\n",
            "  [0.   0.25]]]\n",
            "(3, 2, 2)\n",
            "[[[0.5  0.   0.  ]\n",
            "  [0.   0.25 0.  ]\n",
            "  [0.   0.   0.25]]\n",
            "\n",
            " [[0.25 0.   0.  ]\n",
            "  [0.   0.5  0.  ]\n",
            "  [0.   0.   0.25]]\n",
            "\n",
            " [[0.25 0.   0.  ]\n",
            "  [0.   0.25 0.  ]\n",
            "  [0.   0.   0.5 ]]]\n",
            "Minimum Loss: 1.08585624218189\n"
          ]
        }
      ]
    },
    {
      "cell_type": "code",
      "source": [
        "model = HookedTransformer(cfg)\n",
        "optimizer = torch.optim.Adam(model.parameters(), lr=1e-1)"
      ],
      "metadata": {
        "id": "7xKW7GVvFMaV"
      },
      "execution_count": 18,
      "outputs": []
    },
    {
      "cell_type": "code",
      "source": [
        "from tqdm import tqdm\n",
        "loss_fn = torch.nn.CrossEntropyLoss()\n",
        "scheduler = torch.optim.lr_scheduler.StepLR(optimizer, step_size=10, gamma=0.1)\n",
        "for epoch in tqdm(range(10000)):\n",
        "    train_logits = model(transformer_inputs)\n",
        "    train_loss = loss_fn(train_logits.view(-1, cfg.d_vocab), transformer_targets.flatten())\n",
        "    train_loss.backward()\n",
        "    optimizer.step()\n",
        "    optimizer.zero_grad()\n",
        "    if epoch % 100 == 0:\n",
        "        print(f\"Epoch {epoch+1}/{10000}, Loss: {train_loss.item()/minimum_loss*100} percent of minimum, LR: {optimizer.param_groups[0]['lr']}\")\n",
        "        scheduler.step()"
      ],
      "metadata": {
        "colab": {
          "base_uri": "https://localhost:8080/"
        },
        "id": "iylTEAD_FQvp",
        "outputId": "cd828e42-52fa-4337-efaa-ea868e49d83b"
      },
      "execution_count": 19,
      "outputs": [
        {
          "output_type": "stream",
          "name": "stderr",
          "text": [
            "  0%|          | 1/10000 [00:02<5:37:43,  2.03s/it]"
          ]
        },
        {
          "output_type": "stream",
          "name": "stdout",
          "text": [
            "Epoch 1/10000, Loss: 102.68104514865746 percent of minimum, LR: 0.1\n"
          ]
        },
        {
          "output_type": "stream",
          "name": "stderr",
          "text": [
            "  1%|          | 101/10000 [00:52<1:28:06,  1.87it/s]"
          ]
        },
        {
          "output_type": "stream",
          "name": "stdout",
          "text": [
            "Epoch 101/10000, Loss: 101.1749448584357 percent of minimum, LR: 0.1\n"
          ]
        },
        {
          "output_type": "stream",
          "name": "stderr",
          "text": [
            "  2%|▏         | 201/10000 [01:40<1:10:52,  2.30it/s]"
          ]
        },
        {
          "output_type": "stream",
          "name": "stdout",
          "text": [
            "Epoch 201/10000, Loss: 101.17479116128972 percent of minimum, LR: 0.1\n"
          ]
        },
        {
          "output_type": "stream",
          "name": "stderr",
          "text": [
            "  3%|▎         | 301/10000 [02:26<1:06:31,  2.43it/s]"
          ]
        },
        {
          "output_type": "stream",
          "name": "stdout",
          "text": [
            "Epoch 301/10000, Loss: 101.17476920455456 percent of minimum, LR: 0.1\n"
          ]
        },
        {
          "output_type": "stream",
          "name": "stderr",
          "text": [
            "  4%|▍         | 401/10000 [03:14<1:37:22,  1.64it/s]"
          ]
        },
        {
          "output_type": "stream",
          "name": "stdout",
          "text": [
            "Epoch 401/10000, Loss: 101.174758226187 percent of minimum, LR: 0.1\n"
          ]
        },
        {
          "output_type": "stream",
          "name": "stderr",
          "text": [
            "  5%|▌         | 501/10000 [04:21<1:47:05,  1.48it/s]"
          ]
        },
        {
          "output_type": "stream",
          "name": "stdout",
          "text": [
            "Epoch 501/10000, Loss: 101.174758226187 percent of minimum, LR: 0.1\n"
          ]
        },
        {
          "output_type": "stream",
          "name": "stderr",
          "text": [
            "  6%|▌         | 601/10000 [05:09<1:13:05,  2.14it/s]"
          ]
        },
        {
          "output_type": "stream",
          "name": "stdout",
          "text": [
            "Epoch 601/10000, Loss: 101.174758226187 percent of minimum, LR: 0.1\n"
          ]
        },
        {
          "output_type": "stream",
          "name": "stderr",
          "text": [
            "  7%|▋         | 701/10000 [05:55<1:05:17,  2.37it/s]"
          ]
        },
        {
          "output_type": "stream",
          "name": "stdout",
          "text": [
            "Epoch 701/10000, Loss: 101.17474724781943 percent of minimum, LR: 0.1\n"
          ]
        },
        {
          "output_type": "stream",
          "name": "stderr",
          "text": [
            "  8%|▊         | 801/10000 [06:42<1:22:15,  1.86it/s]"
          ]
        },
        {
          "output_type": "stream",
          "name": "stdout",
          "text": [
            "Epoch 801/10000, Loss: 101.17474724781943 percent of minimum, LR: 0.1\n"
          ]
        },
        {
          "output_type": "stream",
          "name": "stderr",
          "text": [
            "  9%|▉         | 901/10000 [07:29<1:06:47,  2.27it/s]"
          ]
        },
        {
          "output_type": "stream",
          "name": "stdout",
          "text": [
            "Epoch 901/10000, Loss: 101.17474724781943 percent of minimum, LR: 0.1\n"
          ]
        },
        {
          "output_type": "stream",
          "name": "stderr",
          "text": [
            " 10%|█         | 1001/10000 [08:14<1:01:49,  2.43it/s]"
          ]
        },
        {
          "output_type": "stream",
          "name": "stdout",
          "text": [
            "Epoch 1001/10000, Loss: 101.17474724781943 percent of minimum, LR: 0.010000000000000002\n"
          ]
        },
        {
          "output_type": "stream",
          "name": "stderr",
          "text": [
            " 11%|█         | 1101/10000 [08:59<1:00:04,  2.47it/s]"
          ]
        },
        {
          "output_type": "stream",
          "name": "stdout",
          "text": [
            "Epoch 1101/10000, Loss: 101.17474724781943 percent of minimum, LR: 0.010000000000000002\n"
          ]
        },
        {
          "output_type": "stream",
          "name": "stderr",
          "text": [
            " 12%|█▏        | 1201/10000 [09:46<1:19:27,  1.85it/s]"
          ]
        },
        {
          "output_type": "stream",
          "name": "stdout",
          "text": [
            "Epoch 1201/10000, Loss: 101.17474724781943 percent of minimum, LR: 0.010000000000000002\n"
          ]
        },
        {
          "output_type": "stream",
          "name": "stderr",
          "text": [
            " 13%|█▎        | 1301/10000 [10:33<1:03:07,  2.30it/s]"
          ]
        },
        {
          "output_type": "stream",
          "name": "stdout",
          "text": [
            "Epoch 1301/10000, Loss: 101.17474724781943 percent of minimum, LR: 0.010000000000000002\n"
          ]
        },
        {
          "output_type": "stream",
          "name": "stderr",
          "text": [
            " 14%|█▍        | 1401/10000 [11:20<1:18:55,  1.82it/s]"
          ]
        },
        {
          "output_type": "stream",
          "name": "stdout",
          "text": [
            "Epoch 1401/10000, Loss: 101.17474724781943 percent of minimum, LR: 0.010000000000000002\n"
          ]
        },
        {
          "output_type": "stream",
          "name": "stderr",
          "text": [
            " 15%|█▌        | 1501/10000 [12:06<59:28,  2.38it/s]"
          ]
        },
        {
          "output_type": "stream",
          "name": "stdout",
          "text": [
            "Epoch 1501/10000, Loss: 101.17474724781943 percent of minimum, LR: 0.010000000000000002\n"
          ]
        },
        {
          "output_type": "stream",
          "name": "stderr",
          "text": [
            " 16%|█▌        | 1601/10000 [12:52<59:22,  2.36it/s]  "
          ]
        },
        {
          "output_type": "stream",
          "name": "stdout",
          "text": [
            "Epoch 1601/10000, Loss: 101.17474724781943 percent of minimum, LR: 0.010000000000000002\n"
          ]
        },
        {
          "output_type": "stream",
          "name": "stderr",
          "text": [
            " 17%|█▋        | 1701/10000 [13:38<1:18:04,  1.77it/s]"
          ]
        },
        {
          "output_type": "stream",
          "name": "stdout",
          "text": [
            "Epoch 1701/10000, Loss: 101.17474724781943 percent of minimum, LR: 0.010000000000000002\n"
          ]
        },
        {
          "output_type": "stream",
          "name": "stderr",
          "text": [
            " 18%|█▊        | 1801/10000 [14:25<59:52,  2.28it/s]"
          ]
        },
        {
          "output_type": "stream",
          "name": "stdout",
          "text": [
            "Epoch 1801/10000, Loss: 101.17474724781943 percent of minimum, LR: 0.010000000000000002\n"
          ]
        },
        {
          "output_type": "stream",
          "name": "stderr",
          "text": [
            " 19%|█▉        | 1901/10000 [15:10<55:12,  2.44it/s]"
          ]
        },
        {
          "output_type": "stream",
          "name": "stdout",
          "text": [
            "Epoch 1901/10000, Loss: 101.17474724781943 percent of minimum, LR: 0.010000000000000002\n"
          ]
        },
        {
          "output_type": "stream",
          "name": "stderr",
          "text": [
            " 20%|██        | 2001/10000 [15:56<1:03:57,  2.08it/s]"
          ]
        },
        {
          "output_type": "stream",
          "name": "stdout",
          "text": [
            "Epoch 2001/10000, Loss: 101.17474724781943 percent of minimum, LR: 0.0010000000000000002\n"
          ]
        },
        {
          "output_type": "stream",
          "name": "stderr",
          "text": [
            " 21%|██        | 2101/10000 [16:42<59:03,  2.23it/s]  "
          ]
        },
        {
          "output_type": "stream",
          "name": "stdout",
          "text": [
            "Epoch 2101/10000, Loss: 101.17474724781943 percent of minimum, LR: 0.0010000000000000002\n"
          ]
        },
        {
          "output_type": "stream",
          "name": "stderr",
          "text": [
            " 22%|██▏       | 2201/10000 [17:26<52:14,  2.49it/s]"
          ]
        },
        {
          "output_type": "stream",
          "name": "stdout",
          "text": [
            "Epoch 2201/10000, Loss: 101.17474724781943 percent of minimum, LR: 0.0010000000000000002\n"
          ]
        },
        {
          "output_type": "stream",
          "name": "stderr",
          "text": [
            " 23%|██▎       | 2301/10000 [18:11<52:44,  2.43it/s]"
          ]
        },
        {
          "output_type": "stream",
          "name": "stdout",
          "text": [
            "Epoch 2301/10000, Loss: 101.17474724781943 percent of minimum, LR: 0.0010000000000000002\n"
          ]
        },
        {
          "output_type": "stream",
          "name": "stderr",
          "text": [
            " 24%|██▍       | 2401/10000 [18:57<1:14:35,  1.70it/s]"
          ]
        },
        {
          "output_type": "stream",
          "name": "stdout",
          "text": [
            "Epoch 2401/10000, Loss: 101.17474724781943 percent of minimum, LR: 0.0010000000000000002\n"
          ]
        },
        {
          "output_type": "stream",
          "name": "stderr",
          "text": [
            " 25%|██▌       | 2501/10000 [19:42<54:41,  2.28it/s]"
          ]
        },
        {
          "output_type": "stream",
          "name": "stdout",
          "text": [
            "Epoch 2501/10000, Loss: 101.17474724781943 percent of minimum, LR: 0.0010000000000000002\n"
          ]
        },
        {
          "output_type": "stream",
          "name": "stderr",
          "text": [
            " 26%|██▌       | 2601/10000 [20:30<51:04,  2.41it/s]"
          ]
        },
        {
          "output_type": "stream",
          "name": "stdout",
          "text": [
            "Epoch 2601/10000, Loss: 101.17474724781943 percent of minimum, LR: 0.0010000000000000002\n"
          ]
        },
        {
          "output_type": "stream",
          "name": "stderr",
          "text": [
            " 27%|██▋       | 2701/10000 [21:16<1:01:08,  1.99it/s]"
          ]
        },
        {
          "output_type": "stream",
          "name": "stdout",
          "text": [
            "Epoch 2701/10000, Loss: 101.17474724781943 percent of minimum, LR: 0.0010000000000000002\n"
          ]
        },
        {
          "output_type": "stream",
          "name": "stderr",
          "text": [
            " 28%|██▊       | 2801/10000 [22:01<52:49,  2.27it/s]"
          ]
        },
        {
          "output_type": "stream",
          "name": "stdout",
          "text": [
            "Epoch 2801/10000, Loss: 101.17474724781943 percent of minimum, LR: 0.0010000000000000002\n"
          ]
        },
        {
          "output_type": "stream",
          "name": "stderr",
          "text": [
            " 29%|██▉       | 2901/10000 [22:46<48:29,  2.44it/s]"
          ]
        },
        {
          "output_type": "stream",
          "name": "stdout",
          "text": [
            "Epoch 2901/10000, Loss: 101.17474724781943 percent of minimum, LR: 0.0010000000000000002\n"
          ]
        },
        {
          "output_type": "stream",
          "name": "stderr",
          "text": [
            " 30%|███       | 3001/10000 [23:31<1:07:26,  1.73it/s]"
          ]
        },
        {
          "output_type": "stream",
          "name": "stdout",
          "text": [
            "Epoch 3001/10000, Loss: 101.17474724781943 percent of minimum, LR: 0.00010000000000000003\n"
          ]
        },
        {
          "output_type": "stream",
          "name": "stderr",
          "text": [
            " 31%|███       | 3101/10000 [24:17<48:53,  2.35it/s]"
          ]
        },
        {
          "output_type": "stream",
          "name": "stdout",
          "text": [
            "Epoch 3101/10000, Loss: 101.17474724781943 percent of minimum, LR: 0.00010000000000000003\n"
          ]
        },
        {
          "output_type": "stream",
          "name": "stderr",
          "text": [
            " 32%|███▏      | 3201/10000 [25:02<46:46,  2.42it/s]"
          ]
        },
        {
          "output_type": "stream",
          "name": "stdout",
          "text": [
            "Epoch 3201/10000, Loss: 101.17474724781943 percent of minimum, LR: 0.00010000000000000003\n"
          ]
        },
        {
          "output_type": "stream",
          "name": "stderr",
          "text": [
            " 33%|███▎      | 3301/10000 [25:48<52:32,  2.12it/s]"
          ]
        },
        {
          "output_type": "stream",
          "name": "stdout",
          "text": [
            "Epoch 3301/10000, Loss: 101.17474724781943 percent of minimum, LR: 0.00010000000000000003\n"
          ]
        },
        {
          "output_type": "stream",
          "name": "stderr",
          "text": [
            " 34%|███▍      | 3401/10000 [26:36<1:11:49,  1.53it/s]"
          ]
        },
        {
          "output_type": "stream",
          "name": "stdout",
          "text": [
            "Epoch 3401/10000, Loss: 101.17474724781943 percent of minimum, LR: 0.00010000000000000003\n"
          ]
        },
        {
          "output_type": "stream",
          "name": "stderr",
          "text": [
            " 35%|███▌      | 3501/10000 [27:22<46:23,  2.34it/s]"
          ]
        },
        {
          "output_type": "stream",
          "name": "stdout",
          "text": [
            "Epoch 3501/10000, Loss: 101.17474724781943 percent of minimum, LR: 0.00010000000000000003\n"
          ]
        },
        {
          "output_type": "stream",
          "name": "stderr",
          "text": [
            " 36%|███▌      | 3601/10000 [28:08<43:36,  2.45it/s]"
          ]
        },
        {
          "output_type": "stream",
          "name": "stdout",
          "text": [
            "Epoch 3601/10000, Loss: 101.17474724781943 percent of minimum, LR: 0.00010000000000000003\n"
          ]
        },
        {
          "output_type": "stream",
          "name": "stderr",
          "text": [
            " 37%|███▋      | 3701/10000 [28:55<55:38,  1.89it/s]"
          ]
        },
        {
          "output_type": "stream",
          "name": "stdout",
          "text": [
            "Epoch 3701/10000, Loss: 101.17474724781943 percent of minimum, LR: 0.00010000000000000003\n"
          ]
        },
        {
          "output_type": "stream",
          "name": "stderr",
          "text": [
            " 38%|███▊      | 3801/10000 [29:42<43:20,  2.38it/s]"
          ]
        },
        {
          "output_type": "stream",
          "name": "stdout",
          "text": [
            "Epoch 3801/10000, Loss: 101.17473626945186 percent of minimum, LR: 0.00010000000000000003\n"
          ]
        },
        {
          "output_type": "stream",
          "name": "stderr",
          "text": [
            " 39%|███▉      | 3901/10000 [30:31<58:11,  1.75it/s]"
          ]
        },
        {
          "output_type": "stream",
          "name": "stdout",
          "text": [
            "Epoch 3901/10000, Loss: 101.17474724781943 percent of minimum, LR: 0.00010000000000000003\n"
          ]
        },
        {
          "output_type": "stream",
          "name": "stderr",
          "text": [
            " 40%|████      | 4001/10000 [31:17<41:50,  2.39it/s]"
          ]
        },
        {
          "output_type": "stream",
          "name": "stdout",
          "text": [
            "Epoch 4001/10000, Loss: 101.17474724781943 percent of minimum, LR: 1.0000000000000004e-05\n"
          ]
        },
        {
          "output_type": "stream",
          "name": "stderr",
          "text": [
            " 41%|████      | 4101/10000 [32:04<41:32,  2.37it/s]"
          ]
        },
        {
          "output_type": "stream",
          "name": "stdout",
          "text": [
            "Epoch 4101/10000, Loss: 101.17474724781943 percent of minimum, LR: 1.0000000000000004e-05\n"
          ]
        },
        {
          "output_type": "stream",
          "name": "stderr",
          "text": [
            " 42%|████▏     | 4201/10000 [32:51<54:46,  1.76it/s]"
          ]
        },
        {
          "output_type": "stream",
          "name": "stdout",
          "text": [
            "Epoch 4201/10000, Loss: 101.17474724781943 percent of minimum, LR: 1.0000000000000004e-05\n"
          ]
        },
        {
          "output_type": "stream",
          "name": "stderr",
          "text": [
            " 43%|████▎     | 4301/10000 [33:37<40:42,  2.33it/s]"
          ]
        },
        {
          "output_type": "stream",
          "name": "stdout",
          "text": [
            "Epoch 4301/10000, Loss: 101.17474724781943 percent of minimum, LR: 1.0000000000000004e-05\n"
          ]
        },
        {
          "output_type": "stream",
          "name": "stderr",
          "text": [
            " 44%|████▍     | 4401/10000 [34:25<39:30,  2.36it/s]"
          ]
        },
        {
          "output_type": "stream",
          "name": "stdout",
          "text": [
            "Epoch 4401/10000, Loss: 101.17474724781943 percent of minimum, LR: 1.0000000000000004e-05\n"
          ]
        },
        {
          "output_type": "stream",
          "name": "stderr",
          "text": [
            " 45%|████▌     | 4501/10000 [35:11<52:22,  1.75it/s]"
          ]
        },
        {
          "output_type": "stream",
          "name": "stdout",
          "text": [
            "Epoch 4501/10000, Loss: 101.17474724781943 percent of minimum, LR: 1.0000000000000004e-05\n"
          ]
        },
        {
          "output_type": "stream",
          "name": "stderr",
          "text": [
            " 46%|████▌     | 4601/10000 [35:57<39:19,  2.29it/s]"
          ]
        },
        {
          "output_type": "stream",
          "name": "stdout",
          "text": [
            "Epoch 4601/10000, Loss: 101.17474724781943 percent of minimum, LR: 1.0000000000000004e-05\n"
          ]
        },
        {
          "output_type": "stream",
          "name": "stderr",
          "text": [
            " 47%|████▋     | 4701/10000 [36:45<36:36,  2.41it/s]"
          ]
        },
        {
          "output_type": "stream",
          "name": "stdout",
          "text": [
            "Epoch 4701/10000, Loss: 101.17474724781943 percent of minimum, LR: 1.0000000000000004e-05\n"
          ]
        },
        {
          "output_type": "stream",
          "name": "stderr",
          "text": [
            " 48%|████▊     | 4801/10000 [37:32<52:01,  1.67it/s]"
          ]
        },
        {
          "output_type": "stream",
          "name": "stdout",
          "text": [
            "Epoch 4801/10000, Loss: 101.17474724781943 percent of minimum, LR: 1.0000000000000004e-05\n"
          ]
        },
        {
          "output_type": "stream",
          "name": "stderr",
          "text": [
            " 49%|████▉     | 4901/10000 [38:18<35:41,  2.38it/s]"
          ]
        },
        {
          "output_type": "stream",
          "name": "stdout",
          "text": [
            "Epoch 4901/10000, Loss: 101.17474724781943 percent of minimum, LR: 1.0000000000000004e-05\n"
          ]
        },
        {
          "output_type": "stream",
          "name": "stderr",
          "text": [
            " 50%|█████     | 5001/10000 [39:05<34:07,  2.44it/s]"
          ]
        },
        {
          "output_type": "stream",
          "name": "stdout",
          "text": [
            "Epoch 5001/10000, Loss: 101.17474724781943 percent of minimum, LR: 1.0000000000000004e-06\n"
          ]
        },
        {
          "output_type": "stream",
          "name": "stderr",
          "text": [
            " 51%|█████     | 5101/10000 [39:52<43:39,  1.87it/s]"
          ]
        },
        {
          "output_type": "stream",
          "name": "stdout",
          "text": [
            "Epoch 5101/10000, Loss: 101.17474724781943 percent of minimum, LR: 1.0000000000000004e-06\n"
          ]
        },
        {
          "output_type": "stream",
          "name": "stderr",
          "text": [
            " 52%|█████▏    | 5201/10000 [40:38<35:55,  2.23it/s]"
          ]
        },
        {
          "output_type": "stream",
          "name": "stdout",
          "text": [
            "Epoch 5201/10000, Loss: 101.17474724781943 percent of minimum, LR: 1.0000000000000004e-06\n"
          ]
        },
        {
          "output_type": "stream",
          "name": "stderr",
          "text": [
            " 53%|█████▎    | 5301/10000 [41:25<33:19,  2.35it/s]"
          ]
        },
        {
          "output_type": "stream",
          "name": "stdout",
          "text": [
            "Epoch 5301/10000, Loss: 101.17474724781943 percent of minimum, LR: 1.0000000000000004e-06\n"
          ]
        },
        {
          "output_type": "stream",
          "name": "stderr",
          "text": [
            " 54%|█████▍    | 5401/10000 [42:12<44:21,  1.73it/s]"
          ]
        },
        {
          "output_type": "stream",
          "name": "stdout",
          "text": [
            "Epoch 5401/10000, Loss: 101.17474724781943 percent of minimum, LR: 1.0000000000000004e-06\n"
          ]
        },
        {
          "output_type": "stream",
          "name": "stderr",
          "text": [
            " 55%|█████▌    | 5501/10000 [42:58<32:46,  2.29it/s]"
          ]
        },
        {
          "output_type": "stream",
          "name": "stdout",
          "text": [
            "Epoch 5501/10000, Loss: 101.17474724781943 percent of minimum, LR: 1.0000000000000004e-06\n"
          ]
        },
        {
          "output_type": "stream",
          "name": "stderr",
          "text": [
            " 56%|█████▌    | 5601/10000 [43:43<30:40,  2.39it/s]"
          ]
        },
        {
          "output_type": "stream",
          "name": "stdout",
          "text": [
            "Epoch 5601/10000, Loss: 101.17473626945186 percent of minimum, LR: 1.0000000000000004e-06\n"
          ]
        },
        {
          "output_type": "stream",
          "name": "stderr",
          "text": [
            " 57%|█████▋    | 5701/10000 [44:31<35:16,  2.03it/s]"
          ]
        },
        {
          "output_type": "stream",
          "name": "stdout",
          "text": [
            "Epoch 5701/10000, Loss: 101.17474724781943 percent of minimum, LR: 1.0000000000000004e-06\n"
          ]
        },
        {
          "output_type": "stream",
          "name": "stderr",
          "text": [
            " 58%|█████▊    | 5801/10000 [45:17<30:54,  2.26it/s]"
          ]
        },
        {
          "output_type": "stream",
          "name": "stdout",
          "text": [
            "Epoch 5801/10000, Loss: 101.17473626945186 percent of minimum, LR: 1.0000000000000004e-06\n"
          ]
        },
        {
          "output_type": "stream",
          "name": "stderr",
          "text": [
            " 59%|█████▉    | 5901/10000 [46:04<28:29,  2.40it/s]"
          ]
        },
        {
          "output_type": "stream",
          "name": "stdout",
          "text": [
            "Epoch 5901/10000, Loss: 101.17474724781943 percent of minimum, LR: 1.0000000000000004e-06\n"
          ]
        },
        {
          "output_type": "stream",
          "name": "stderr",
          "text": [
            " 60%|██████    | 6001/10000 [46:51<36:38,  1.82it/s]"
          ]
        },
        {
          "output_type": "stream",
          "name": "stdout",
          "text": [
            "Epoch 6001/10000, Loss: 101.17474724781943 percent of minimum, LR: 1.0000000000000005e-07\n"
          ]
        },
        {
          "output_type": "stream",
          "name": "stderr",
          "text": [
            " 61%|██████    | 6101/10000 [47:38<29:36,  2.20it/s]"
          ]
        },
        {
          "output_type": "stream",
          "name": "stdout",
          "text": [
            "Epoch 6101/10000, Loss: 101.17474724781943 percent of minimum, LR: 1.0000000000000005e-07\n"
          ]
        },
        {
          "output_type": "stream",
          "name": "stderr",
          "text": [
            " 62%|██████▏   | 6201/10000 [48:25<25:59,  2.44it/s]"
          ]
        },
        {
          "output_type": "stream",
          "name": "stdout",
          "text": [
            "Epoch 6201/10000, Loss: 101.17474724781943 percent of minimum, LR: 1.0000000000000005e-07\n"
          ]
        },
        {
          "output_type": "stream",
          "name": "stderr",
          "text": [
            " 63%|██████▎   | 6301/10000 [49:13<37:40,  1.64it/s]"
          ]
        },
        {
          "output_type": "stream",
          "name": "stdout",
          "text": [
            "Epoch 6301/10000, Loss: 101.17474724781943 percent of minimum, LR: 1.0000000000000005e-07\n"
          ]
        },
        {
          "output_type": "stream",
          "name": "stderr",
          "text": [
            " 64%|██████▍   | 6401/10000 [49:59<25:26,  2.36it/s]"
          ]
        },
        {
          "output_type": "stream",
          "name": "stdout",
          "text": [
            "Epoch 6401/10000, Loss: 101.17474724781943 percent of minimum, LR: 1.0000000000000005e-07\n"
          ]
        },
        {
          "output_type": "stream",
          "name": "stderr",
          "text": [
            " 65%|██████▌   | 6501/10000 [50:46<24:07,  2.42it/s]"
          ]
        },
        {
          "output_type": "stream",
          "name": "stdout",
          "text": [
            "Epoch 6501/10000, Loss: 101.17474724781943 percent of minimum, LR: 1.0000000000000005e-07\n"
          ]
        },
        {
          "output_type": "stream",
          "name": "stderr",
          "text": [
            " 66%|██████▌   | 6601/10000 [51:34<33:56,  1.67it/s]"
          ]
        },
        {
          "output_type": "stream",
          "name": "stdout",
          "text": [
            "Epoch 6601/10000, Loss: 101.17474724781943 percent of minimum, LR: 1.0000000000000005e-07\n"
          ]
        },
        {
          "output_type": "stream",
          "name": "stderr",
          "text": [
            " 67%|██████▋   | 6701/10000 [52:21<23:02,  2.39it/s]"
          ]
        },
        {
          "output_type": "stream",
          "name": "stdout",
          "text": [
            "Epoch 6701/10000, Loss: 101.17474724781943 percent of minimum, LR: 1.0000000000000005e-07\n"
          ]
        },
        {
          "output_type": "stream",
          "name": "stderr",
          "text": [
            " 68%|██████▊   | 6801/10000 [53:07<22:22,  2.38it/s]"
          ]
        },
        {
          "output_type": "stream",
          "name": "stdout",
          "text": [
            "Epoch 6801/10000, Loss: 101.17474724781943 percent of minimum, LR: 1.0000000000000005e-07\n"
          ]
        },
        {
          "output_type": "stream",
          "name": "stderr",
          "text": [
            " 69%|██████▉   | 6901/10000 [53:55<31:09,  1.66it/s]"
          ]
        },
        {
          "output_type": "stream",
          "name": "stdout",
          "text": [
            "Epoch 6901/10000, Loss: 101.17473626945186 percent of minimum, LR: 1.0000000000000005e-07\n"
          ]
        },
        {
          "output_type": "stream",
          "name": "stderr",
          "text": [
            " 70%|███████   | 7001/10000 [54:41<20:50,  2.40it/s]"
          ]
        },
        {
          "output_type": "stream",
          "name": "stdout",
          "text": [
            "Epoch 7001/10000, Loss: 101.17473626945186 percent of minimum, LR: 1.0000000000000005e-08\n"
          ]
        },
        {
          "output_type": "stream",
          "name": "stderr",
          "text": [
            " 71%|███████   | 7101/10000 [55:27<20:11,  2.39it/s]"
          ]
        },
        {
          "output_type": "stream",
          "name": "stdout",
          "text": [
            "Epoch 7101/10000, Loss: 101.17473626945186 percent of minimum, LR: 1.0000000000000005e-08\n"
          ]
        },
        {
          "output_type": "stream",
          "name": "stderr",
          "text": [
            " 72%|███████▏  | 7201/10000 [56:16<24:44,  1.89it/s]"
          ]
        },
        {
          "output_type": "stream",
          "name": "stdout",
          "text": [
            "Epoch 7201/10000, Loss: 101.17473626945186 percent of minimum, LR: 1.0000000000000005e-08\n"
          ]
        },
        {
          "output_type": "stream",
          "name": "stderr",
          "text": [
            " 73%|███████▎  | 7301/10000 [57:02<19:33,  2.30it/s]"
          ]
        },
        {
          "output_type": "stream",
          "name": "stdout",
          "text": [
            "Epoch 7301/10000, Loss: 101.17473626945186 percent of minimum, LR: 1.0000000000000005e-08\n"
          ]
        },
        {
          "output_type": "stream",
          "name": "stderr",
          "text": [
            " 74%|███████▍  | 7401/10000 [57:47<18:27,  2.35it/s]"
          ]
        },
        {
          "output_type": "stream",
          "name": "stdout",
          "text": [
            "Epoch 7401/10000, Loss: 101.17474724781943 percent of minimum, LR: 1.0000000000000005e-08\n"
          ]
        },
        {
          "output_type": "stream",
          "name": "stderr",
          "text": [
            " 75%|███████▌  | 7501/10000 [58:37<24:19,  1.71it/s]"
          ]
        },
        {
          "output_type": "stream",
          "name": "stdout",
          "text": [
            "Epoch 7501/10000, Loss: 101.17474724781943 percent of minimum, LR: 1.0000000000000005e-08\n"
          ]
        },
        {
          "output_type": "stream",
          "name": "stderr",
          "text": [
            " 76%|███████▌  | 7601/10000 [59:23<16:53,  2.37it/s]"
          ]
        },
        {
          "output_type": "stream",
          "name": "stdout",
          "text": [
            "Epoch 7601/10000, Loss: 101.17473626945186 percent of minimum, LR: 1.0000000000000005e-08\n"
          ]
        },
        {
          "output_type": "stream",
          "name": "stderr",
          "text": [
            " 77%|███████▋  | 7701/10000 [1:00:09<15:34,  2.46it/s]"
          ]
        },
        {
          "output_type": "stream",
          "name": "stdout",
          "text": [
            "Epoch 7701/10000, Loss: 101.17473626945186 percent of minimum, LR: 1.0000000000000005e-08\n"
          ]
        },
        {
          "output_type": "stream",
          "name": "stderr",
          "text": [
            " 78%|███████▊  | 7801/10000 [1:00:58<20:14,  1.81it/s]"
          ]
        },
        {
          "output_type": "stream",
          "name": "stdout",
          "text": [
            "Epoch 7801/10000, Loss: 101.17473626945186 percent of minimum, LR: 1.0000000000000005e-08\n"
          ]
        },
        {
          "output_type": "stream",
          "name": "stderr",
          "text": [
            " 79%|███████▉  | 7901/10000 [1:01:44<14:57,  2.34it/s]"
          ]
        },
        {
          "output_type": "stream",
          "name": "stdout",
          "text": [
            "Epoch 7901/10000, Loss: 101.17473626945186 percent of minimum, LR: 1.0000000000000005e-08\n"
          ]
        },
        {
          "output_type": "stream",
          "name": "stderr",
          "text": [
            " 80%|████████  | 8001/10000 [1:02:30<14:22,  2.32it/s]"
          ]
        },
        {
          "output_type": "stream",
          "name": "stdout",
          "text": [
            "Epoch 8001/10000, Loss: 101.17473626945186 percent of minimum, LR: 1.0000000000000005e-09\n"
          ]
        },
        {
          "output_type": "stream",
          "name": "stderr",
          "text": [
            " 81%|████████  | 8101/10000 [1:03:18<15:45,  2.01it/s]"
          ]
        },
        {
          "output_type": "stream",
          "name": "stdout",
          "text": [
            "Epoch 8101/10000, Loss: 101.17473626945186 percent of minimum, LR: 1.0000000000000005e-09\n"
          ]
        },
        {
          "output_type": "stream",
          "name": "stderr",
          "text": [
            " 82%|████████▏ | 8201/10000 [1:04:05<13:46,  2.18it/s]"
          ]
        },
        {
          "output_type": "stream",
          "name": "stdout",
          "text": [
            "Epoch 8201/10000, Loss: 101.17473626945186 percent of minimum, LR: 1.0000000000000005e-09\n"
          ]
        },
        {
          "output_type": "stream",
          "name": "stderr",
          "text": [
            " 83%|████████▎ | 8301/10000 [1:04:51<11:58,  2.36it/s]"
          ]
        },
        {
          "output_type": "stream",
          "name": "stdout",
          "text": [
            "Epoch 8301/10000, Loss: 101.17473626945186 percent of minimum, LR: 1.0000000000000005e-09\n"
          ]
        },
        {
          "output_type": "stream",
          "name": "stderr",
          "text": [
            " 84%|████████▍ | 8401/10000 [1:05:39<10:54,  2.44it/s]"
          ]
        },
        {
          "output_type": "stream",
          "name": "stdout",
          "text": [
            "Epoch 8401/10000, Loss: 101.17473626945186 percent of minimum, LR: 1.0000000000000005e-09\n"
          ]
        },
        {
          "output_type": "stream",
          "name": "stderr",
          "text": [
            " 85%|████████▌ | 8501/10000 [1:06:27<11:14,  2.22it/s]"
          ]
        },
        {
          "output_type": "stream",
          "name": "stdout",
          "text": [
            "Epoch 8501/10000, Loss: 101.17473626945186 percent of minimum, LR: 1.0000000000000005e-09\n"
          ]
        },
        {
          "output_type": "stream",
          "name": "stderr",
          "text": [
            " 86%|████████▌ | 8601/10000 [1:07:13<10:04,  2.31it/s]"
          ]
        },
        {
          "output_type": "stream",
          "name": "stdout",
          "text": [
            "Epoch 8601/10000, Loss: 101.17473626945186 percent of minimum, LR: 1.0000000000000005e-09\n"
          ]
        },
        {
          "output_type": "stream",
          "name": "stderr",
          "text": [
            " 87%|████████▋ | 8701/10000 [1:08:00<08:58,  2.41it/s]"
          ]
        },
        {
          "output_type": "stream",
          "name": "stdout",
          "text": [
            "Epoch 8701/10000, Loss: 101.17473626945186 percent of minimum, LR: 1.0000000000000005e-09\n"
          ]
        },
        {
          "output_type": "stream",
          "name": "stderr",
          "text": [
            " 88%|████████▊ | 8801/10000 [1:08:48<10:10,  1.96it/s]"
          ]
        },
        {
          "output_type": "stream",
          "name": "stdout",
          "text": [
            "Epoch 8801/10000, Loss: 101.17473626945186 percent of minimum, LR: 1.0000000000000005e-09\n"
          ]
        },
        {
          "output_type": "stream",
          "name": "stderr",
          "text": [
            " 89%|████████▉ | 8901/10000 [1:09:33<07:30,  2.44it/s]"
          ]
        },
        {
          "output_type": "stream",
          "name": "stdout",
          "text": [
            "Epoch 8901/10000, Loss: 101.17473626945186 percent of minimum, LR: 1.0000000000000005e-09\n"
          ]
        },
        {
          "output_type": "stream",
          "name": "stderr",
          "text": [
            " 90%|█████████ | 9001/10000 [1:10:21<09:27,  1.76it/s]"
          ]
        },
        {
          "output_type": "stream",
          "name": "stdout",
          "text": [
            "Epoch 9001/10000, Loss: 101.17473626945186 percent of minimum, LR: 1.0000000000000006e-10\n"
          ]
        },
        {
          "output_type": "stream",
          "name": "stderr",
          "text": [
            " 91%|█████████ | 9101/10000 [1:11:08<06:35,  2.27it/s]"
          ]
        },
        {
          "output_type": "stream",
          "name": "stdout",
          "text": [
            "Epoch 9101/10000, Loss: 101.17473626945186 percent of minimum, LR: 1.0000000000000006e-10\n"
          ]
        },
        {
          "output_type": "stream",
          "name": "stderr",
          "text": [
            " 92%|█████████▏| 9201/10000 [1:11:54<05:22,  2.48it/s]"
          ]
        },
        {
          "output_type": "stream",
          "name": "stdout",
          "text": [
            "Epoch 9201/10000, Loss: 101.17473626945186 percent of minimum, LR: 1.0000000000000006e-10\n"
          ]
        },
        {
          "output_type": "stream",
          "name": "stderr",
          "text": [
            " 93%|█████████▎| 9301/10000 [1:12:43<07:27,  1.56it/s]"
          ]
        },
        {
          "output_type": "stream",
          "name": "stdout",
          "text": [
            "Epoch 9301/10000, Loss: 101.17473626945186 percent of minimum, LR: 1.0000000000000006e-10\n"
          ]
        },
        {
          "output_type": "stream",
          "name": "stderr",
          "text": [
            " 94%|█████████▍| 9401/10000 [1:13:29<04:17,  2.32it/s]"
          ]
        },
        {
          "output_type": "stream",
          "name": "stdout",
          "text": [
            "Epoch 9401/10000, Loss: 101.17473626945186 percent of minimum, LR: 1.0000000000000006e-10\n"
          ]
        },
        {
          "output_type": "stream",
          "name": "stderr",
          "text": [
            " 95%|█████████▌| 9501/10000 [1:14:15<03:26,  2.42it/s]"
          ]
        },
        {
          "output_type": "stream",
          "name": "stdout",
          "text": [
            "Epoch 9501/10000, Loss: 101.17473626945186 percent of minimum, LR: 1.0000000000000006e-10\n"
          ]
        },
        {
          "output_type": "stream",
          "name": "stderr",
          "text": [
            " 96%|█████████▌| 9601/10000 [1:15:03<04:21,  1.53it/s]"
          ]
        },
        {
          "output_type": "stream",
          "name": "stdout",
          "text": [
            "Epoch 9601/10000, Loss: 101.17473626945186 percent of minimum, LR: 1.0000000000000006e-10\n"
          ]
        },
        {
          "output_type": "stream",
          "name": "stderr",
          "text": [
            " 97%|█████████▋| 9701/10000 [1:15:49<02:10,  2.29it/s]"
          ]
        },
        {
          "output_type": "stream",
          "name": "stdout",
          "text": [
            "Epoch 9701/10000, Loss: 101.17473626945186 percent of minimum, LR: 1.0000000000000006e-10\n"
          ]
        },
        {
          "output_type": "stream",
          "name": "stderr",
          "text": [
            " 98%|█████████▊| 9801/10000 [1:16:34<01:21,  2.43it/s]"
          ]
        },
        {
          "output_type": "stream",
          "name": "stdout",
          "text": [
            "Epoch 9801/10000, Loss: 101.17473626945186 percent of minimum, LR: 1.0000000000000006e-10\n"
          ]
        },
        {
          "output_type": "stream",
          "name": "stderr",
          "text": [
            " 99%|█████████▉| 9901/10000 [1:17:22<01:00,  1.64it/s]"
          ]
        },
        {
          "output_type": "stream",
          "name": "stdout",
          "text": [
            "Epoch 9901/10000, Loss: 101.17473626945186 percent of minimum, LR: 1.0000000000000006e-10\n"
          ]
        },
        {
          "output_type": "stream",
          "name": "stderr",
          "text": [
            "100%|██████████| 10000/10000 [1:18:08<00:00,  2.13it/s]\n"
          ]
        }
      ]
    },
    {
      "cell_type": "code",
      "source": [
        "import torch\n",
        "\n",
        "\n",
        "# 保存整个模型到当前工作目录\n",
        "torch.save(model, 'my_model.pth')\n",
        "\n"
      ],
      "metadata": {
        "id": "1TrDvgmKCXq4"
      },
      "execution_count": 21,
      "outputs": []
    },
    {
      "cell_type": "code",
      "source": [
        "!ls -l\n"
      ],
      "metadata": {
        "colab": {
          "base_uri": "https://localhost:8080/"
        },
        "id": "mr2SMe39Uo4D",
        "outputId": "15360f8d-22e0-4bb5-a78c-7818c897ccd4"
      },
      "execution_count": null,
      "outputs": [
        {
          "output_type": "stream",
          "name": "stdout",
          "text": [
            "total 52\n",
            "drwxr-xr-x 8 root root  4096 Jun  2 19:51 epsilon-transformers\n",
            "drwxr-xr-x 8 root root  4096 Jun  2 17:28 epsilon_transformers\n",
            "drwxr-xr-x 2 root root  4096 Jun  2 19:55 epsilon_transformers.egg-info\n",
            "drwxr-xr-x 2 root root  4096 Jun  2 17:26 examples\n",
            "-rw-r--r-- 1 root root 19574 Jun  2 20:01 my_model.pth\n",
            "-rw-r--r-- 1 root root   584 Jun  2 17:26 pyproject.toml\n",
            "-rw-r--r-- 1 root root  2686 Jun  2 17:26 README.md\n",
            "drwxr-xr-x 2 root root  4096 Jun  2 17:26 scripts\n",
            "drwxr-xr-x 2 root root  4096 Jun  2 17:26 tests\n"
          ]
        }
      ]
    },
    {
      "cell_type": "code",
      "source": [
        "# 加载模型\n",
        "loaded_model = torch.load('my_model.pth')\n",
        "\n",
        "# 检查模型是否相同\n",
        "# 这可以通过比较某些输出或模型参数来进行\n",
        "input_example = torch.randint(low=0, high=proc1.vocab_len, size=(1, 8))  # 假设词汇表大小为vocab_size\n",
        "input_example = input_example.long()  # 转换输入数据类型\n",
        "original_output = model(input_example)\n",
        "loaded_output = loaded_model(input_example)\n",
        "print(torch.equal(original_output, loaded_output))  # 输出应该是 True\n"
      ],
      "metadata": {
        "colab": {
          "base_uri": "https://localhost:8080/"
        },
        "id": "JQYwhbJDVBbB",
        "outputId": "277d4da4-734a-4458-be1f-8058933a56c5"
      },
      "execution_count": 22,
      "outputs": [
        {
          "output_type": "stream",
          "name": "stdout",
          "text": [
            "True\n"
          ]
        }
      ]
    },
    {
      "cell_type": "code",
      "source": [
        "device = 'cuda' if torch.cuda.is_available() else 'cpu'\n",
        "transformer_inputs = [x for x in tree_paths if len(x) == cfg.n_ctx]\n",
        "transformer_inputs = torch.tensor(transformer_inputs, dtype=torch.int).to(device)\n",
        "\n",
        "# print first few batches\n",
        "print(transformer_inputs[:5])\n"
      ],
      "metadata": {
        "colab": {
          "base_uri": "https://localhost:8080/"
        },
        "id": "ufjqUp0sWKNk",
        "outputId": "e01fff27-4684-412b-ffde-f424aea3d69a"
      },
      "execution_count": 23,
      "outputs": [
        {
          "output_type": "stream",
          "name": "stdout",
          "text": [
            "tensor([[0, 2, 0, 0, 2, 2, 2, 0],\n",
            "        [1, 0, 1, 2, 0, 2, 2, 0],\n",
            "        [0, 0, 1, 2, 1, 2, 2, 0],\n",
            "        [0, 2, 0, 2, 0, 2, 2, 1],\n",
            "        [1, 0, 2, 0, 1, 2, 2, 1]], dtype=torch.int32)\n"
          ]
        }
      ]
    },
    {
      "cell_type": "code",
      "source": [
        "transformer_input_beliefs, transformer_input_belief_indices = get_beliefs_for_transformer_inputs(transformer_inputs, msp_belief_index, tree_paths, tree_beliefs)\n",
        "print(f\"Transformer Input Beliefs: {transformer_input_beliefs.shape}, Transformer Input Belief Indices: {transformer_input_belief_indices.shape}\")\n"
      ],
      "metadata": {
        "colab": {
          "base_uri": "https://localhost:8080/"
        },
        "id": "rgVaarV5W5jV",
        "outputId": "df829602-1045-4aca-84fc-5351e75597bb"
      },
      "execution_count": 24,
      "outputs": [
        {
          "output_type": "stream",
          "name": "stdout",
          "text": [
            "Transformer Input Beliefs: torch.Size([6561, 8, 3]), Transformer Input Belief Indices: torch.Size([6561, 8])\n"
          ]
        }
      ]
    },
    {
      "cell_type": "code",
      "source": [
        "device = torch.device(\"cuda\" if torch.cuda.is_available() else \"cpu\")\n",
        "\n",
        "model = torch.load('my_model.pth')\n",
        "_, activations = model.run_with_cache(transformer_inputs, names_filter=lambda x: 'resid_post' in x)\n",
        "print(activations.keys())\n"
      ],
      "metadata": {
        "colab": {
          "base_uri": "https://localhost:8080/"
        },
        "id": "kW9WHw3CY2Wl",
        "outputId": "14adb883-f30f-46db-df6e-ab8bb0a89cf1"
      },
      "execution_count": 25,
      "outputs": [
        {
          "output_type": "stream",
          "name": "stdout",
          "text": [
            "dict_keys(['blocks.0.hook_resid_post'])\n"
          ]
        }
      ]
    },
    {
      "cell_type": "code",
      "source": [
        "# we now have activations [batch, n_ctx, d_model]\n",
        "# and we have transformer_input_beliefs [batch, n_ctx, belief_dim]\n",
        "# and we have transformer_input_belief_indices [batch, n_ctx]\n",
        "\n",
        "# in the end we want to do linear regression between the activations and the transformer_input_beliefs\n",
        "def run_activation_to_beliefs_regression(activations, ground_truth_beliefs):\n",
        "\n",
        "    # make sure the first two dimensions are the same\n",
        "    assert activations.shape[0] == ground_truth_beliefs.shape[0]\n",
        "    assert activations.shape[1] == ground_truth_beliefs.shape[1]\n",
        "\n",
        "    # flatten the activations\n",
        "    batch_size, n_ctx, d_model = activations.shape\n",
        "    belief_dim = ground_truth_beliefs.shape[-1]\n",
        "    activations_flattened = activations.view(-1, d_model) # [batch * n_ctx, d_model]\n",
        "    ground_truth_beliefs_flattened = ground_truth_beliefs.view(-1, belief_dim) # [batch * n_ctx, belief_dim]\n",
        "\n",
        "    # run the regression\n",
        "    regression = LinearRegression()\n",
        "    regression.fit(activations_flattened, ground_truth_beliefs_flattened)\n",
        "\n",
        "    # get the belief predictions\n",
        "    belief_predictions = regression.predict(activations_flattened) # [batch * n_ctx, belief_dim]\n",
        "    belief_predictions = belief_predictions.reshape(batch_size, n_ctx, belief_dim)\n",
        "\n",
        "    return regression, belief_predictions\n"
      ],
      "metadata": {
        "id": "-dZE9wz0bPL2"
      },
      "execution_count": 26,
      "outputs": []
    },
    {
      "cell_type": "code",
      "source": [
        "acts = torch.cat([v for k, v in activations.items()], dim=-1)\n",
        "regression, belief_predictions = run_activation_to_beliefs_regression(acts, transformer_input_beliefs)\n",
        "print(f\"Shape of belief_predictions: {belief_predictions.shape}\")"
      ],
      "metadata": {
        "colab": {
          "base_uri": "https://localhost:8080/"
        },
        "id": "U6Hj5Rc_bSbg",
        "outputId": "5834c938-2a10-4012-d8a9-e3d5d790f10c"
      },
      "execution_count": 27,
      "outputs": [
        {
          "output_type": "stream",
          "name": "stdout",
          "text": [
            "Shape of belief_predictions: (6561, 8, 3)\n"
          ]
        }
      ]
    },
    {
      "cell_type": "code",
      "source": [
        "from epsilon_transformers.visualization import plots\n",
        "print(dir(plots))\n"
      ],
      "metadata": {
        "colab": {
          "base_uri": "https://localhost:8080/"
        },
        "id": "AcIPPJhvjVIK",
        "outputId": "73df2f25-fff2-43a6-84fe-7c87d39c2f28"
      },
      "execution_count": null,
      "outputs": [
        {
          "output_type": "stream",
          "name": "stdout",
          "text": [
            "['Figure', 'Float', 'Image', 'Literal', 'RawModelConfig', 'ZeroOneR', '__builtins__', '__cached__', '__doc__', '__file__', '__loader__', '__name__', '__package__', '__spec__', '_project_to_simplex', 'find_msp_subspace_in_residual_stream', 'fire', 'np', 'pd', 'plt']\n"
          ]
        }
      ]
    },
    {
      "cell_type": "code",
      "source": [
        "from epsilon_transformers.analysis.activation_analysis import find_msp_subspace_in_residual_stream\n",
        "from epsilon_transformers.process.processes import Mess3\n",
        "\n",
        "\n",
        "\n",
        "belief_predictions_flattened = belief_predictions.reshape(-1, 3)\n",
        "transformer_input_belief_flattened = transformer_input_beliefs.reshape(-1, 3)\n",
        "\n",
        "# project to simplex\n",
        "belief_true_projected = _project_to_simplex(transformer_input_belief_flattened)\n",
        "belief_pred_projected = _project_to_simplex(belief_predictions_flattened)\n",
        "\n",
        "rgb_colors =  transformer_input_belief_flattened.cpu().numpy()\n",
        "#rgb_colors = rgb_colors.astype(int)\n",
        "\n",
        "sns.set_context(\"paper\")\n",
        "fig, axes = plt.subplots(1, 2, figsize=(6, 3))\n",
        "\n",
        "# Plotting the true beliefs projected onto the simplex\n",
        "axes[0].scatter(belief_true_projected[0], belief_true_projected[1], marker='.', c=rgb_colors, alpha=0.2, s=0.5)\n",
        "axes[0].axis('off')\n",
        "axes[0].set_title(\"Ground Truth Simplex\")\n",
        "\n",
        "# Plotting the predicted beliefs projected onto the simplex\n",
        "axes[1].scatter(belief_pred_projected[0], belief_pred_projected[1], marker='.', c=rgb_colors, alpha=0.3, s=0.01)\n",
        "axes[1].axis('off')\n",
        "axes[1].set_title(\"Residual Stream Simplex\")\n",
        "\n",
        "# Adjust layout for better spacing\n",
        "plt.tight_layout()\n",
        "\n",
        "# Display the figure\n",
        "plt.show()"
      ],
      "metadata": {
        "colab": {
          "base_uri": "https://localhost:8080/",
          "height": 308
        },
        "id": "QsNXkP8XdLs7",
        "outputId": "fb8e4859-0910-4a53-ae3b-db2d624e04bc"
      },
      "execution_count": 30,
      "outputs": [
        {
          "output_type": "display_data",
          "data": {
            "text/plain": [
              "<Figure size 600x300 with 2 Axes>"
            ],
            "image/png": "[encoded data removed]"
          },
          "metadata": {}
        }
      ]
    }
  ]
}